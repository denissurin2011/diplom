{
 "cells": [
  {
   "cell_type": "code",
   "execution_count": 0,
   "metadata": {
    "colab": {
     "base_uri": "https://localhost:8080/",
     "height": 34
    },
    "colab_type": "code",
    "id": "OMFEZ9S8zSvS",
    "outputId": "ed7409e5-bc26-4199-c9eb-baa7fc6729cb"
   },
   "outputs": [
    {
     "name": "stderr",
     "output_type": "stream",
     "text": [
      "Using TensorFlow backend.\n"
     ]
    }
   ],
   "source": [
    "from sklearn.linear_model import LinearRegression\n",
    "import numpy as np\n",
    "import pandas as pd\n",
    "from numpy import newaxis\n",
    "import pandas as pd\n",
    "from keras.layers.core import Dense, Activation, Dropout, Flatten\n",
    "from keras.layers.recurrent import LSTM, GRU\n",
    "from keras.models import Sequential\n",
    "from keras import optimizers\n",
    "from sklearn.preprocessing import MinMaxScaler\n",
    "import matplotlib.pyplot as plt\n",
    "import torch\n",
    "import torch.nn as nn\n",
    "from torch import optim\n",
    "import torch.nn.functional as F\n",
    "from IPython.display import clear_output\n",
    "from torch.utils.data import TensorDataset, DataLoader\n",
    "from torch.optim.lr_scheduler import _LRScheduler\n",
    "%matplotlib inline"
   ]
  },
  {
   "cell_type": "code",
   "execution_count": 0,
   "metadata": {
    "colab": {},
    "colab_type": "code",
    "id": "l0CX4GPg-P6Y"
   },
   "outputs": [],
   "source": [
    "torch.manual_seed(1337)\n",
    "np.random.seed(1337)\n",
    "\n",
    "if torch.cuda.is_available():\n",
    "    DEVICE = 'cuda:0'\n",
    "    torch.cuda.manual_seed(1337)\n",
    "else:\n",
    "    DEVICE = None"
   ]
  },
  {
   "cell_type": "code",
   "execution_count": 0,
   "metadata": {
    "colab": {
     "base_uri": "https://localhost:8080/",
     "height": 34
    },
    "colab_type": "code",
    "id": "oFx4bNkY-o2R",
    "outputId": "d4cfb206-41d7-431f-da84-ea8661016c07"
   },
   "outputs": [
    {
     "data": {
      "text/plain": [
       "'cuda:0'"
      ]
     },
     "execution_count": 4,
     "metadata": {
      "tags": []
     },
     "output_type": "execute_result"
    }
   ],
   "source": [
    "DEVICE"
   ]
  },
  {
   "cell_type": "code",
   "execution_count": 0,
   "metadata": {
    "colab": {
     "base_uri": "https://localhost:8080/",
     "height": 122
    },
    "colab_type": "code",
    "id": "BmVRLUSwzcEl",
    "outputId": "5637dde1-f0f7-4286-b8e7-46a20d4907f3"
   },
   "outputs": [
    {
     "name": "stdout",
     "output_type": "stream",
     "text": [
      "Go to this URL in a browser: https://accounts.google.com/o/oauth2/auth?client_id=947318989803-6bn6qk8qdgf4n4g3pfee6491hc0brc4i.apps.googleusercontent.com&redirect_uri=urn%3aietf%3awg%3aoauth%3a2.0%3aoob&response_type=code&scope=email%20https%3a%2f%2fwww.googleapis.com%2fauth%2fdocs.test%20https%3a%2f%2fwww.googleapis.com%2fauth%2fdrive%20https%3a%2f%2fwww.googleapis.com%2fauth%2fdrive.photos.readonly%20https%3a%2f%2fwww.googleapis.com%2fauth%2fpeopleapi.readonly\n",
      "\n",
      "Enter your authorization code:\n",
      "··········\n",
      "Mounted at /content/drive\n"
     ]
    }
   ],
   "source": [
    "# from google.colab import drive\n",
    "# drive.mount('/content/drive')"
   ]
  },
  {
   "cell_type": "markdown",
   "metadata": {
    "colab_type": "text",
    "id": "pI_01sgHzSvb"
   },
   "source": [
    "# Data"
   ]
  },
  {
   "cell_type": "code",
   "execution_count": 0,
   "metadata": {
    "colab": {},
    "colab_type": "code",
    "id": "DUdMFq8Azpm2"
   },
   "outputs": [],
   "source": [
    "data_path = '/content/drive/My Drive/Diplom/data'"
   ]
  },
  {
   "cell_type": "code",
   "execution_count": 0,
   "metadata": {
    "colab": {},
    "colab_type": "code",
    "id": "aju4BfrrzSvd"
   },
   "outputs": [],
   "source": [
    "df_train = pd.read_csv(data_path + '/train.csv', index_col=\"id\")\n",
    "df_test = pd.read_csv(data_path + '/test.csv', index_col=\"id\")\n",
    "df_test_ans = pd.read_csv(data_path + \"/ans.csv\", index_col=\"id\")\n",
    "df_test_ans['sat_id'] = df_test['sat_id']\n",
    "df_pred_sgp4 = pd.read_csv(data_path + \"/pred_sgp.csv\", index_col=\"id\")\n",
    "\n",
    "n_sat = len(pd.unique(df_train[\"sat_id\"]))"
   ]
  },
  {
   "cell_type": "code",
   "execution_count": 0,
   "metadata": {
    "colab": {
     "base_uri": "https://localhost:8080/",
     "height": 34
    },
    "colab_type": "code",
    "id": "OSxGdQJD0W6k",
    "outputId": "b0bf953d-4032-4a4b-fa37-497d9a4f612b"
   },
   "outputs": [
    {
     "data": {
      "text/plain": [
       "215"
      ]
     },
     "execution_count": 10,
     "metadata": {
      "tags": []
     },
     "output_type": "execute_result"
    }
   ],
   "source": [
    "df_train[df_train['sat_id'] == 0].shape[0]"
   ]
  },
  {
   "cell_type": "code",
   "execution_count": 0,
   "metadata": {
    "colab": {},
    "colab_type": "code",
    "id": "yFQwtkhJ0M8p"
   },
   "outputs": [],
   "source": [
    "a = []\n",
    "for n in range(n_sat):\n",
    "    a.append(df_train[df_train['sat_id'] == n].shape[0])"
   ]
  },
  {
   "cell_type": "code",
   "execution_count": 0,
   "metadata": {
    "colab": {
     "base_uri": "https://localhost:8080/",
     "height": 333
    },
    "colab_type": "code",
    "id": "j5dBF1lp0d-C",
    "outputId": "ca62899a-c689-4872-eea1-4571318ebe3c"
   },
   "outputs": [
    {
     "data": {
      "text/plain": [
       "(array([158., 136., 124.,  83.,  42.,  32.,  15.,   6.,   3.,   1.]),\n",
       " array([ 100. ,  293.9,  487.8,  681.7,  875.6, 1069.5, 1263.4, 1457.3,\n",
       "        1651.2, 1845.1, 2039. ]),\n",
       " <a list of 10 Patch objects>)"
      ]
     },
     "execution_count": 12,
     "metadata": {
      "tags": []
     },
     "output_type": "execute_result"
    },
    {
     "data": {
      "image/png": "[encoded data removed]",
      "text/plain": [
       "<Figure size 432x288 with 1 Axes>"
      ]
     },
     "metadata": {
      "needs_background": "light",
      "tags": []
     },
     "output_type": "display_data"
    }
   ],
   "source": [
    "plt.hist(a)"
   ]
  },
  {
   "cell_type": "code",
   "execution_count": 0,
   "metadata": {
    "colab": {},
    "colab_type": "code",
    "id": "bHF_XWD_xHt6"
   },
   "outputs": [],
   "source": [
    "sc = MinMaxScaler(feature_range=(0,1))"
   ]
  },
  {
   "cell_type": "code",
   "execution_count": 0,
   "metadata": {
    "colab": {
     "base_uri": "https://localhost:8080/",
     "height": 340
    },
    "colab_type": "code",
    "id": "3LdU4uQ-oZic",
    "outputId": "92944aa7-3876-409f-b300-2dc2ca4af416"
   },
   "outputs": [
    {
     "data": {
      "text/html": [
       "<div>\n",
       "<style scoped>\n",
       "    .dataframe tbody tr th:only-of-type {\n",
       "        vertical-align: middle;\n",
       "    }\n",
       "\n",
       "    .dataframe tbody tr th {\n",
       "        vertical-align: top;\n",
       "    }\n",
       "\n",
       "    .dataframe thead th {\n",
       "        text-align: right;\n",
       "    }\n",
       "</style>\n",
       "<table border=\"1\" class=\"dataframe\">\n",
       "  <thead>\n",
       "    <tr style=\"text-align: right;\">\n",
       "      <th></th>\n",
       "      <th>epoch</th>\n",
       "      <th>sat_id</th>\n",
       "      <th>x</th>\n",
       "      <th>y</th>\n",
       "      <th>z</th>\n",
       "      <th>Vx</th>\n",
       "      <th>Vy</th>\n",
       "      <th>Vz</th>\n",
       "      <th>x_sim</th>\n",
       "      <th>y_sim</th>\n",
       "      <th>z_sim</th>\n",
       "      <th>Vx_sim</th>\n",
       "      <th>Vy_sim</th>\n",
       "      <th>Vz_sim</th>\n",
       "    </tr>\n",
       "    <tr>\n",
       "      <th>id</th>\n",
       "      <th></th>\n",
       "      <th></th>\n",
       "      <th></th>\n",
       "      <th></th>\n",
       "      <th></th>\n",
       "      <th></th>\n",
       "      <th></th>\n",
       "      <th></th>\n",
       "      <th></th>\n",
       "      <th></th>\n",
       "      <th></th>\n",
       "      <th></th>\n",
       "      <th></th>\n",
       "      <th></th>\n",
       "    </tr>\n",
       "  </thead>\n",
       "  <tbody>\n",
       "    <tr>\n",
       "      <th>0</th>\n",
       "      <td>2014-01-01T00:00:00.000</td>\n",
       "      <td>0</td>\n",
       "      <td>-42610.746108</td>\n",
       "      <td>-950.947579</td>\n",
       "      <td>-150.480874</td>\n",
       "      <td>-0.053824</td>\n",
       "      <td>2.819207</td>\n",
       "      <td>-2.574694</td>\n",
       "      <td>-42240.798364</td>\n",
       "      <td>-174.838890</td>\n",
       "      <td>-879.668497</td>\n",
       "      <td>0.003675</td>\n",
       "      <td>2.810373</td>\n",
       "      <td>-2.616507</td>\n",
       "    </tr>\n",
       "    <tr>\n",
       "      <th>1</th>\n",
       "      <td>2014-01-01T03:27:39.104</td>\n",
       "      <td>0</td>\n",
       "      <td>-28572.436555</td>\n",
       "      <td>30683.997692</td>\n",
       "      <td>-28690.937467</td>\n",
       "      <td>2.005508</td>\n",
       "      <td>2.052520</td>\n",
       "      <td>-1.825483</td>\n",
       "      <td>-27464.918026</td>\n",
       "      <td>31096.520145</td>\n",
       "      <td>-29629.836338</td>\n",
       "      <td>2.045653</td>\n",
       "      <td>2.006299</td>\n",
       "      <td>-1.817265</td>\n",
       "    </tr>\n",
       "    <tr>\n",
       "      <th>2</th>\n",
       "      <td>2014-01-01T06:55:18.208</td>\n",
       "      <td>0</td>\n",
       "      <td>162.172770</td>\n",
       "      <td>49535.021870</td>\n",
       "      <td>-45208.609618</td>\n",
       "      <td>2.429630</td>\n",
       "      <td>1.035764</td>\n",
       "      <td>-0.887060</td>\n",
       "      <td>1527.795437</td>\n",
       "      <td>49447.308248</td>\n",
       "      <td>-45994.112453</td>\n",
       "      <td>2.431892</td>\n",
       "      <td>1.001504</td>\n",
       "      <td>-0.872049</td>\n",
       "    </tr>\n",
       "    <tr>\n",
       "      <th>3</th>\n",
       "      <td>2014-01-01T10:22:57.312</td>\n",
       "      <td>0</td>\n",
       "      <td>29688.627324</td>\n",
       "      <td>58121.236575</td>\n",
       "      <td>-52335.405494</td>\n",
       "      <td>2.270135</td>\n",
       "      <td>0.396228</td>\n",
       "      <td>-0.306936</td>\n",
       "      <td>31011.763016</td>\n",
       "      <td>57726.886540</td>\n",
       "      <td>-52965.113733</td>\n",
       "      <td>2.259802</td>\n",
       "      <td>0.378083</td>\n",
       "      <td>-0.295799</td>\n",
       "    </tr>\n",
       "    <tr>\n",
       "      <th>4</th>\n",
       "      <td>2014-01-01T13:50:36.416</td>\n",
       "      <td>0</td>\n",
       "      <td>56271.589069</td>\n",
       "      <td>60415.811680</td>\n",
       "      <td>-53787.597409</td>\n",
       "      <td>1.990739</td>\n",
       "      <td>0.001809</td>\n",
       "      <td>0.046556</td>\n",
       "      <td>57461.761250</td>\n",
       "      <td>59878.934228</td>\n",
       "      <td>-54303.123793</td>\n",
       "      <td>1.977595</td>\n",
       "      <td>-0.005517</td>\n",
       "      <td>0.054374</td>\n",
       "    </tr>\n",
       "  </tbody>\n",
       "</table>\n",
       "</div>"
      ],
      "text/plain": [
       "                      epoch  sat_id             x  ...    Vx_sim    Vy_sim    Vz_sim\n",
       "id                                                 ...                              \n",
       "0   2014-01-01T00:00:00.000       0 -42610.746108  ...  0.003675  2.810373 -2.616507\n",
       "1   2014-01-01T03:27:39.104       0 -28572.436555  ...  2.045653  2.006299 -1.817265\n",
       "2   2014-01-01T06:55:18.208       0    162.172770  ...  2.431892  1.001504 -0.872049\n",
       "3   2014-01-01T10:22:57.312       0  29688.627324  ...  2.259802  0.378083 -0.295799\n",
       "4   2014-01-01T13:50:36.416       0  56271.589069  ...  1.977595 -0.005517  0.054374\n",
       "\n",
       "[5 rows x 14 columns]"
      ]
     },
     "execution_count": 11,
     "metadata": {
      "tags": []
     },
     "output_type": "execute_result"
    }
   ],
   "source": [
    "data_path = '/content/drive/My Drive/Diplom/data'\n",
    "df_train = pd.read_csv(data_path + '/train.csv', index_col=\"id\")\n",
    "df_test = pd.read_csv(data_path + '/test.csv', index_col=\"id\")\n",
    "df_test_ans = pd.read_csv(data_path + \"/ans.csv\", index_col=\"id\")\n",
    "df_test_ans['sat_id'] = df_test['sat_id']\n",
    "df_pred_sgp4 = pd.read_csv(data_path + \"/pred_sgp.csv\", index_col=\"id\")\n",
    "\n",
    "n_sat = len(pd.unique(df_train[\"sat_id\"]))\n",
    "sc = MinMaxScaler(feature_range=(0,1))"
   ]
  },
  {
   "cell_type": "code",
   "execution_count": 0,
   "metadata": {
    "colab": {
     "base_uri": "https://localhost:8080/",
     "height": 544
    },
    "colab_type": "code",
    "id": "A1cpT0bwqN84",
    "outputId": "6b806552-589f-426c-bf5f-387fc53c9135"
   },
   "outputs": [
    {
     "data": {
      "text/plain": [
       "{'01',\n",
       " '02',\n",
       " '03',\n",
       " '04',\n",
       " '05',\n",
       " '06',\n",
       " '07',\n",
       " '08',\n",
       " '09',\n",
       " '10',\n",
       " '11',\n",
       " '12',\n",
       " '13',\n",
       " '14',\n",
       " '15',\n",
       " '16',\n",
       " '17',\n",
       " '18',\n",
       " '19',\n",
       " '20',\n",
       " '21',\n",
       " '22',\n",
       " '23',\n",
       " '24',\n",
       " '25',\n",
       " '26',\n",
       " '27',\n",
       " '28',\n",
       " '29',\n",
       " '30',\n",
       " '31'}"
      ]
     },
     "execution_count": 26,
     "metadata": {
      "tags": []
     },
     "output_type": "execute_result"
    }
   ],
   "source": [
    "dates = df_train.epoch.values\n",
    "day = set()\n",
    "for d in dates:\n",
    "    day.add(d.split('-')[2][:2])\n",
    "day"
   ]
  },
  {
   "cell_type": "code",
   "execution_count": 0,
   "metadata": {
    "colab": {
     "base_uri": "https://localhost:8080/",
     "height": 235
    },
    "colab_type": "code",
    "id": "_yECbl-wohbk",
    "outputId": "abfe40f8-c652-48a4-9d1d-dface0ebba6c"
   },
   "outputs": [
    {
     "data": {
      "text/html": [
       "<div>\n",
       "<style scoped>\n",
       "    .dataframe tbody tr th:only-of-type {\n",
       "        vertical-align: middle;\n",
       "    }\n",
       "\n",
       "    .dataframe tbody tr th {\n",
       "        vertical-align: top;\n",
       "    }\n",
       "\n",
       "    .dataframe thead th {\n",
       "        text-align: right;\n",
       "    }\n",
       "</style>\n",
       "<table border=\"1\" class=\"dataframe\">\n",
       "  <thead>\n",
       "    <tr style=\"text-align: right;\">\n",
       "      <th></th>\n",
       "      <th>sat_id</th>\n",
       "      <th>epoch</th>\n",
       "      <th>x_sim</th>\n",
       "      <th>y_sim</th>\n",
       "      <th>z_sim</th>\n",
       "      <th>Vx_sim</th>\n",
       "      <th>Vy_sim</th>\n",
       "      <th>Vz_sim</th>\n",
       "    </tr>\n",
       "    <tr>\n",
       "      <th>id</th>\n",
       "      <th></th>\n",
       "      <th></th>\n",
       "      <th></th>\n",
       "      <th></th>\n",
       "      <th></th>\n",
       "      <th></th>\n",
       "      <th></th>\n",
       "      <th></th>\n",
       "    </tr>\n",
       "  </thead>\n",
       "  <tbody>\n",
       "    <tr>\n",
       "      <th>215</th>\n",
       "      <td>0</td>\n",
       "      <td>2014-02-01T00:05:07.344</td>\n",
       "      <td>-28099.394464</td>\n",
       "      <td>-31393.873066</td>\n",
       "      <td>27879.580116</td>\n",
       "      <td>-2.048926</td>\n",
       "      <td>1.980606</td>\n",
       "      <td>-1.879962</td>\n",
       "    </tr>\n",
       "    <tr>\n",
       "      <th>216</th>\n",
       "      <td>0</td>\n",
       "      <td>2014-02-01T03:32:46.448</td>\n",
       "      <td>-42644.222149</td>\n",
       "      <td>-288.393217</td>\n",
       "      <td>-1087.275407</td>\n",
       "      <td>0.015348</td>\n",
       "      <td>2.814050</td>\n",
       "      <td>-2.577676</td>\n",
       "    </tr>\n",
       "    <tr>\n",
       "      <th>217</th>\n",
       "      <td>0</td>\n",
       "      <td>2014-02-01T07:00:25.552</td>\n",
       "      <td>-27979.382752</td>\n",
       "      <td>31096.467597</td>\n",
       "      <td>-29369.026222</td>\n",
       "      <td>2.033737</td>\n",
       "      <td>2.029262</td>\n",
       "      <td>-1.794169</td>\n",
       "    </tr>\n",
       "    <tr>\n",
       "      <th>218</th>\n",
       "      <td>0</td>\n",
       "      <td>2014-02-01T10:28:04.656</td>\n",
       "      <td>896.126549</td>\n",
       "      <td>49712.580025</td>\n",
       "      <td>-45492.481646</td>\n",
       "      <td>2.433120</td>\n",
       "      <td>1.022877</td>\n",
       "      <td>-0.859440</td>\n",
       "    </tr>\n",
       "    <tr>\n",
       "      <th>219</th>\n",
       "      <td>0</td>\n",
       "      <td>2014-02-01T13:55:43.760</td>\n",
       "      <td>30391.384369</td>\n",
       "      <td>58185.560870</td>\n",
       "      <td>-52301.500238</td>\n",
       "      <td>2.267209</td>\n",
       "      <td>0.390206</td>\n",
       "      <td>-0.285250</td>\n",
       "    </tr>\n",
       "  </tbody>\n",
       "</table>\n",
       "</div>"
      ],
      "text/plain": [
       "     sat_id                    epoch  ...    Vy_sim    Vz_sim\n",
       "id                                    ...                    \n",
       "215       0  2014-02-01T00:05:07.344  ...  1.980606 -1.879962\n",
       "216       0  2014-02-01T03:32:46.448  ...  2.814050 -2.577676\n",
       "217       0  2014-02-01T07:00:25.552  ...  2.029262 -1.794169\n",
       "218       0  2014-02-01T10:28:04.656  ...  1.022877 -0.859440\n",
       "219       0  2014-02-01T13:55:43.760  ...  0.390206 -0.285250\n",
       "\n",
       "[5 rows x 8 columns]"
      ]
     },
     "execution_count": 12,
     "metadata": {
      "tags": []
     },
     "output_type": "execute_result"
    }
   ],
   "source": [
    "df_test.head()"
   ]
  },
  {
   "cell_type": "code",
   "execution_count": 0,
   "metadata": {
    "colab": {},
    "colab_type": "code",
    "id": "k_7lwdPHzh_a"
   },
   "outputs": [],
   "source": [
    "from tqdm import tqdm"
   ]
  },
  {
   "cell_type": "code",
   "execution_count": 0,
   "metadata": {
    "colab": {},
    "colab_type": "code",
    "id": "pB0pvcO_zghB"
   },
   "outputs": [],
   "source": [
    "from tqdm import tqdm\n",
    "# features columns \n",
    "feature_cols = [\"x_sim\", \"y_sim\", \"z_sim\", \"Vx_sim\", \"Vy_sim\", \"Vz_sim\"]\n",
    "\n",
    "# target variables columns \n",
    "target_cols = [\"x\", \"y\", \"z\", \"Vx\", \"Vy\", \"Vz\"]"
   ]
  },
  {
   "cell_type": "markdown",
   "metadata": {
    "colab_type": "text",
    "id": "37BA75mCzSv3"
   },
   "source": [
    "# RNN"
   ]
  },
  {
   "cell_type": "code",
   "execution_count": 0,
   "metadata": {
    "colab": {},
    "colab_type": "code",
    "id": "-h_B0N-WOIbh"
   },
   "outputs": [],
   "source": [
    "class LSTM_bases(nn.Module):\n",
    "    def __init__(self):\n",
    "        super().__init__()\n",
    "        self.lstm = nn.LSTM(6, 6)\n",
    "        self.lin = nn.Linear(6, 6)\n",
    "    \n",
    "    def forward(self, X):\n",
    "        h = (torch.randn(1, 1, 6), torch.randn(1, 1, 6))\n",
    "        outputs = []\n",
    "        for x in X:\n",
    "            out, h = self.lstm(x.view(1, 1, -1).float(), h)\n",
    "            out1 = self.lin(out)\n",
    "            outputs.append(out1)\n",
    "        outputs = torch.stack(outputs, 1).squeeze(2)\n",
    "        return outputs"
   ]
  },
  {
   "cell_type": "code",
   "execution_count": 0,
   "metadata": {
    "colab": {},
    "colab_type": "code",
    "id": "Xji7fkh-IK-c"
   },
   "outputs": [],
   "source": [
    "class RNN_bases(nn.Module):\n",
    "    def __init__(self):\n",
    "        super().__init__()\n",
    "        self.lstm = nn.RNN(6, 6)\n",
    "        self.lin = nn.Linear(6, 6)\n",
    "    \n",
    "    def forward(self, X):\n",
    "        h = torch.randn(1, 1, 6)\n",
    "        outputs = []\n",
    "        for x in X:\n",
    "            out, h = self.lstm(x.view(1, 1, -1).float(), h)\n",
    "            out1 = self.lin(out)\n",
    "            outputs.append(out1)\n",
    "        outputs = torch.stack(outputs, 1).squeeze(2)\n",
    "        return outputs"
   ]
  },
  {
   "cell_type": "code",
   "execution_count": 0,
   "metadata": {
    "colab": {},
    "colab_type": "code",
    "id": "fkZ5TcwlYj2W"
   },
   "outputs": [],
   "source": [
    "class GRU_bases(nn.Module):\n",
    "    def __init__(self):\n",
    "        super().__init__()\n",
    "        self.lstm = nn.GRU(6, 6)\n",
    "        self.lin = nn.Linear(6, 6)\n",
    "    \n",
    "    def forward(self, X):\n",
    "        h = torch.randn(1, 1, 6)\n",
    "        outputs = []\n",
    "        for x in X:\n",
    "            out, h = self.lstm(x.view(1, 1, -1).float(), h)\n",
    "            out1 = self.lin(out)\n",
    "            outputs.append(out1)\n",
    "        outputs = torch.stack(outputs, 1).squeeze(2)\n",
    "        return outputs"
   ]
  },
  {
   "cell_type": "code",
   "execution_count": 0,
   "metadata": {
    "colab": {},
    "colab_type": "code",
    "id": "cWHGFFMNLjxL"
   },
   "outputs": [],
   "source": [
    "def train_epoch(model, optimizer):\n",
    "    loss_log = []\n",
    "    model.train()\n",
    "    for i, data in enumerate(X_train):\n",
    "        target = y_train[i]\n",
    "        target = torch.tensor(target).float()\n",
    "        data = torch.tensor(data)\n",
    "        optimizer.zero_grad()\n",
    "        output = model(data)\n",
    "        loss_function = nn.MSELoss()        \n",
    "        loss = loss_function(output, target)\n",
    "        loss.backward()\n",
    "        optimizer.step()\n",
    "        loss = loss.item()\n",
    "        loss_log.append(loss)\n",
    "    return loss_log   \n",
    "\n",
    "def plot_history(train_history, title='loss'):\n",
    "    clear_output()\n",
    "    plt.figure()\n",
    "    plt.title('{}'.format(title))\n",
    "    plt.plot(train_history, label='train', zorder=1)\n",
    "    plt.xlabel('train steps')\n",
    "    plt.legend(loc='best')\n",
    "    plt.grid()\n",
    "    plt.show()\n",
    "    \n",
    "def train(model, opt, n_epochs):\n",
    "    train_log = []\n",
    "    for epoch in range(n_epochs):\n",
    "        print(\"Epoch {0} of {1}\".format(epoch, n_epochs))\n",
    "        train_loss = train_epoch(model, opt)\n",
    "        train_log.extend(train_loss)\n",
    "        plot_history(train_log)"
   ]
  },
  {
   "cell_type": "code",
   "execution_count": 0,
   "metadata": {
    "colab": {},
    "colab_type": "code",
    "id": "8xfcO5yA3k5T"
   },
   "outputs": [],
   "source": [
    "def getX(df, feature_cols, target_cols):\n",
    "    X_train = []\n",
    "    y_train = []\n",
    "    for i in range(n_sat):\n",
    "        x = df[df['sat_id'] == i].sort_values(['epoch'])[feature_cols].to_numpy()\n",
    "        y = df[df['sat_id'] == i].sort_values(['epoch'])[target_cols].to_numpy()\n",
    "        x = np.expand_dims(x, 1)\n",
    "        y = np.expand_dims(y, 1)\n",
    "        X_train.append(x)\n",
    "        y_train.append(y)\n",
    "    return X_train, y_train"
   ]
  },
  {
   "cell_type": "code",
   "execution_count": 0,
   "metadata": {
    "colab": {},
    "colab_type": "code",
    "id": "d37hbnHp_HyU"
   },
   "outputs": [],
   "source": [
    "X_train, y_train = getX(df_train, feature_cols, target_cols)"
   ]
  },
  {
   "cell_type": "code",
   "execution_count": 0,
   "metadata": {
    "colab": {
     "base_uri": "https://localhost:8080/",
     "height": 34
    },
    "colab_type": "code",
    "id": "1zdV_U2V3qGf",
    "outputId": "7e553851-b892-4f77-e407-3d0960c45b40"
   },
   "outputs": [
    {
     "data": {
      "text/plain": [
       "(215, 1, 6)"
      ]
     },
     "execution_count": 133,
     "metadata": {
      "tags": []
     },
     "output_type": "execute_result"
    }
   ],
   "source": [
    "X_train[0].shape"
   ]
  },
  {
   "cell_type": "code",
   "execution_count": 0,
   "metadata": {
    "colab": {
     "base_uri": "https://localhost:8080/",
     "height": 34
    },
    "colab_type": "code",
    "id": "dZSlkaneB0kX",
    "outputId": "2ebe1e2a-855e-44de-c071-28f27f8e18c8"
   },
   "outputs": [
    {
     "data": {
      "text/plain": [
       "600"
      ]
     },
     "execution_count": 13,
     "metadata": {
      "tags": []
     },
     "output_type": "execute_result"
    }
   ],
   "source": [
    "len(X_train)"
   ]
  },
  {
   "cell_type": "code",
   "execution_count": 0,
   "metadata": {
    "colab": {
     "base_uri": "https://localhost:8080/",
     "height": 34
    },
    "colab_type": "code",
    "id": "2f-BDa4I7oVl",
    "outputId": "54cc8526-3859-4ab1-e4d3-2dcbc171025f"
   },
   "outputs": [
    {
     "data": {
      "text/plain": [
       "(215, 1, 6)"
      ]
     },
     "execution_count": 19,
     "metadata": {
      "tags": []
     },
     "output_type": "execute_result"
    }
   ],
   "source": [
    "y_train[0].shape"
   ]
  },
  {
   "cell_type": "code",
   "execution_count": 0,
   "metadata": {
    "colab": {},
    "colab_type": "code",
    "id": "_my5LsOh8HUX"
   },
   "outputs": [],
   "source": [
    "import warnings\n",
    "warnings.filterwarnings('ignore')"
   ]
  },
  {
   "cell_type": "code",
   "execution_count": 0,
   "metadata": {
    "colab": {
     "base_uri": "https://localhost:8080/",
     "height": 51
    },
    "colab_type": "code",
    "id": "0gWg_zxIMq2l",
    "outputId": "a2e13c24-22a6-48b9-ab84-239569fab344"
   },
   "outputs": [
    {
     "name": "stdout",
     "output_type": "stream",
     "text": [
      "CPU times: user 1.98 s, sys: 771 ms, total: 2.75 s\n",
      "Wall time: 2.76 s\n"
     ]
    }
   ],
   "source": [
    "%%time\n",
    "modelL = LSTM_bases()\n",
    "modelL = modelL.to(DEVICE)\n",
    "opt = torch.optim.Adam(modelL.parameters(), lr=0.0005)"
   ]
  },
  {
   "cell_type": "code",
   "execution_count": 0,
   "metadata": {
    "colab": {},
    "colab_type": "code",
    "id": "Y5zdb6dOEd0-"
   },
   "outputs": [],
   "source": [
    "train(modelL, opt, 10)"
   ]
  },
  {
   "cell_type": "code",
   "execution_count": 0,
   "metadata": {
    "colab": {
     "base_uri": "https://localhost:8080/",
     "height": 295
    },
    "colab_type": "code",
    "id": "c_fy8Jo-IUA9",
    "outputId": "ca5b5674-7385-40e7-8ed7-a599a6dc2069"
   },
   "outputs": [
    {
     "data": {
      "image/png": "[encoded data removed]",
      "text/plain": [
       "<Figure size 432x288 with 1 Axes>"
      ]
     },
     "metadata": {
      "needs_background": "light",
      "tags": []
     },
     "output_type": "display_data"
    }
   ],
   "source": [
    "modelR = RNN_bases()\n",
    "opt = torch.optim.Adam(modelR.parameters(), lr=0.0005)\n",
    "train(modelR, opt, 10)"
   ]
  },
  {
   "cell_type": "code",
   "execution_count": 0,
   "metadata": {
    "colab": {
     "base_uri": "https://localhost:8080/",
     "height": 51
    },
    "colab_type": "code",
    "id": "esEiXDUrY8Zx",
    "outputId": "a0aa5ea3-d52f-4729-e690-413258ad1c3f"
   },
   "outputs": [
    {
     "name": "stdout",
     "output_type": "stream",
     "text": [
      "CPU times: user 1.63 ms, sys: 0 ns, total: 1.63 ms\n",
      "Wall time: 1.46 ms\n"
     ]
    }
   ],
   "source": [
    "%%time\n",
    "modelG = GRU_bases()\n",
    "opt = torch.optim.Adam(modelG.parameters(), lr=0.0005)"
   ]
  },
  {
   "cell_type": "code",
   "execution_count": 0,
   "metadata": {
    "colab": {},
    "colab_type": "code",
    "id": "4BrTPDAqA51K"
   },
   "outputs": [],
   "source": [
    "#modelG = modelG.to(DEVICE)"
   ]
  },
  {
   "cell_type": "code",
   "execution_count": 0,
   "metadata": {
    "colab": {},
    "colab_type": "code",
    "id": "LqieQKdJA-wL"
   },
   "outputs": [],
   "source": []
  },
  {
   "cell_type": "code",
   "execution_count": 0,
   "metadata": {
    "colab": {},
    "colab_type": "code",
    "id": "U3HyrVCLAxFm"
   },
   "outputs": [],
   "source": [
    "train(modelG, opt, 100)"
   ]
  },
  {
   "cell_type": "code",
   "execution_count": 0,
   "metadata": {
    "colab": {},
    "colab_type": "code",
    "id": "80R4ffv-9RXQ"
   },
   "outputs": [],
   "source": [
    "def test(model, name):\n",
    "    pred = pd.DataFrame(columns=target_cols, index=df_test.index)\n",
    "    X_test = df_test[feature_cols].values\n",
    "    pred[\"sat_id\"] = df_test[\"sat_id\"]\n",
    "    p = []\n",
    "    for x in X_test:\n",
    "        model.eval()\n",
    "        p.append(model(torch.tensor(x).float().view(1, -1).view(1, 1, -1)).detach().numpy())\n",
    "    p = np.array(p)\n",
    "    p = p.reshape(302458, 6)\n",
    "    for i, col in enumerate(target_cols):\n",
    "        pred[col] = p[:, i]\n",
    "    print_metrics(name, pred)"
   ]
  },
  {
   "cell_type": "code",
   "execution_count": 0,
   "metadata": {
    "colab": {
     "base_uri": "https://localhost:8080/",
     "height": 119
    },
    "colab_type": "code",
    "id": "jy9gt3_4DFpx",
    "outputId": "cb314e2b-ea97-4954-e409-fd384f22f250"
   },
   "outputs": [
    {
     "name": "stdout",
     "output_type": "stream",
     "text": [
      "\n",
      "RNN\n",
      "\n",
      "IDAO score:  11.080449413655803\n",
      "SMAPE IDAO:  0.889195505863442\n",
      "SMAPE new:   1.7780232254877126\n"
     ]
    }
   ],
   "source": [
    "test(modelR, 'RNN')"
   ]
  },
  {
   "cell_type": "code",
   "execution_count": 0,
   "metadata": {
    "colab": {
     "base_uri": "https://localhost:8080/",
     "height": 119
    },
    "colab_type": "code",
    "id": "gv0ZCXPaZDQ_",
    "outputId": "e1de4c95-1062-4447-8351-f2717378b304"
   },
   "outputs": [
    {
     "name": "stdout",
     "output_type": "stream",
     "text": [
      "\n",
      "LSTM\n",
      "\n",
      "IDAO score:  9.343313382257957\n",
      "SMAPE IDAO:  0.9065668661774204\n",
      "SMAPE new:   1.819967649391191\n"
     ]
    }
   ],
   "source": [
    "test(modelL, 'LSTM')"
   ]
  },
  {
   "cell_type": "code",
   "execution_count": 0,
   "metadata": {
    "colab": {
     "base_uri": "https://localhost:8080/",
     "height": 119
    },
    "colab_type": "code",
    "id": "j6_rxr7HZFDW",
    "outputId": "3ee6f0bd-eec3-4e29-e8bb-47813a1e3659"
   },
   "outputs": [
    {
     "name": "stdout",
     "output_type": "stream",
     "text": [
      "\n",
      "GRU\n",
      "\n",
      "IDAO score:  11.492832926745233\n",
      "SMAPE IDAO:  0.8850716707325477\n",
      "SMAPE new:   1.7595817874755963\n"
     ]
    }
   ],
   "source": [
    "test(modelG, 'GRU')"
   ]
  },
  {
   "cell_type": "markdown",
   "metadata": {
    "colab_type": "text",
    "id": "ISENpBkhzSwH"
   },
   "source": [
    "# IDAO"
   ]
  },
  {
   "cell_type": "code",
   "execution_count": 0,
   "metadata": {
    "colab": {},
    "colab_type": "code",
    "id": "mNUxAZU8zSwH"
   },
   "outputs": [],
   "source": [
    "pred_idao = pd.read_csv(data_path + '/sub_idao_example.csv', index_col='id')"
   ]
  },
  {
   "cell_type": "markdown",
   "metadata": {
    "colab_type": "text",
    "id": "KUGW-4OKzSwL"
   },
   "source": [
    "# Metrics"
   ]
  },
  {
   "cell_type": "code",
   "execution_count": 0,
   "metadata": {
    "colab": {},
    "colab_type": "code",
    "id": "aaHzTcS9Ctzy"
   },
   "outputs": [],
   "source": [
    "import numpy as np\n",
    "from scipy.spatial.distance import mahalanobis\n",
    "from numpy.linalg import norm\n",
    "import pandas as pd\n",
    "\n",
    "def smape_idao(pred, ans):\n",
    "    pred = pred.values\n",
    "    ans = ans.values\n",
    "    return np.mean(np.abs(pred - ans) / (np.abs(pred) + np.abs(ans)))\n",
    "\n",
    "def idao_score(pred, ans):\n",
    "    return 100 * (1 - smape_idao(pred, ans))\n",
    "\n",
    "def smape_new_vector_norm(pred, ans, av_score=True):\n",
    "    assert set(ans.columns) == {'y', 'Vy', 'x', 'z', 'Vx', 'sat_id', 'Vz'}\n",
    "    for c in [\"x\", \"y\", \"z\", \"Vx\", \"Vy\", \"Vz\"]:\n",
    "        assert c in pred.columns\n",
    "    assert (ans.index == pred.index).all()\n",
    "    scores = []\n",
    "    if not av_score:\n",
    "        r_losses = v_losses = []\n",
    "    for sat_id in pd.unique(ans[\"sat_id\"]):\n",
    "        idxs = (ans[\"sat_id\"] == sat_id).values\n",
    "        p = pred.loc[idxs, [\"x\", \"y\", \"z\", \"Vx\", \"Vy\", \"Vz\"]].values.astype(\"float\")\n",
    "        a = ans.loc[idxs, [\"x\", \"y\", \"z\", \"Vx\", \"Vy\", \"Vz\"]].values.astype(\"float\")\n",
    "        loss = p - a\n",
    "        # coordinates\n",
    "        r_loss = norm(loss[:, :3], axis=1) / (norm(p[:, :3], axis=1) + norm(a[:, :3], axis=1))\n",
    "        r_loss = np.mean(r_loss)\n",
    "        # velocities\n",
    "        v_loss = norm(loss[:, 3:], axis=1) / (norm(p[:, 3:], axis=1) + norm(a[:, 3:], axis=1))     \n",
    "        v_loss = np.mean(v_loss)\n",
    "        # score\n",
    "        scores.append(r_loss + v_loss)\n",
    "        if not av_score:\n",
    "            r_losses.append(r_loss)            \n",
    "            v_losses.append(v_loss)\n",
    "    if av_score:\n",
    "        return np.mean(scores)\n",
    "    else:\n",
    "        return np.array(scores), np.array(r_losses), np.array(v_losses)\n",
    "\n",
    "def mahalanobis_distance(pred, ans):\n",
    "    # TODO: не ясно откуда берется ковариационная матрица\n",
    "    scores = []\n",
    "    for sat_id in pd.unique(ans[\"sat_id\"]):\n",
    "        idxs = (ans[\"sat_id\"] == sat_id).values\n",
    "        p = pred.loc[idxs, [\"x\", \"y\", \"z\", \"Vx\", \"Vy\", \"Vz\"]]\n",
    "        a = ans.loc[idxs, [\"x\", \"y\", \"z\", \"Vx\", \"Vy\", \"Vz\"]]\n",
    "        # coordinates\n",
    "        r_loss = []\n",
    "        for coord in ['x', 'y', 'z']:\n",
    "            p_coord = p[coord].values.astype(\"float\")\n",
    "            a_coord = a[coord].values.astype(\"float\")\n",
    "            cov = np.cov(np.stack([p_coord, a_coord], axis=1))\n",
    "            r_loss.append(mahalanobis(p_coord, a_coord, cov))\n",
    "        # score\n",
    "        scores.append(r_loss)\n",
    "    return np.mean(scores)\n"
   ]
  },
  {
   "cell_type": "code",
   "execution_count": 0,
   "metadata": {
    "colab": {},
    "colab_type": "code",
    "id": "YqSrieZBzSwN"
   },
   "outputs": [],
   "source": [
    "def print_metrics(model_name, pred):\n",
    "    print(f\"\\n{model_name}\\n\")\n",
    "    print(f\"IDAO score:  {idao_score(pred[target_cols], df_test_ans[target_cols])}\")    \n",
    "    print(f\"SMAPE IDAO:  {smape_idao(pred[target_cols], df_test_ans[target_cols])}\")    \n",
    "    print(f\"SMAPE new:   {smape_new_vector_norm(pred, df_test_ans)}\")    \n",
    "#     print(f\"Mahalanobis: {mahalanobis_distance(pred, df_test_ans)}\")"
   ]
  },
  {
   "cell_type": "code",
   "execution_count": 0,
   "metadata": {
    "colab": {},
    "colab_type": "code",
    "id": "U8VaogM4zSwP",
    "outputId": "e55b4991-0715-4267-e706-cc62584d6b87"
   },
   "outputs": [
    {
     "name": "stdout",
     "output_type": "stream",
     "text": [
      "\n",
      "SGP4 – Total Score:\n",
      "\n",
      "IDAO score:  85.76745399276147\n",
      "SMAPE IDAO:  0.14232546007238525\n",
      "SMAPE new:   0.2105207081354428\n",
      "\n",
      "LR – Total Score:\n",
      "\n",
      "IDAO score:  91.81678353872567\n",
      "SMAPE IDAO:  0.08183216461274322\n",
      "SMAPE new:   0.1272771961005083\n",
      "\n",
      "IDAO – Total Score:\n",
      "\n",
      "IDAO score:  96.92031297743414\n",
      "SMAPE IDAO:  0.030796870225658628\n",
      "SMAPE new:   0.052050588061025874\n"
     ]
    }
   ],
   "source": [
    "pred_sgp4 = df_pred_sgp4.rename(\n",
    "    columns=dict(zip(feature_cols, target_cols)))\n",
    "\n",
    "print_metrics(\"SGP4 – Total Score:\", pred_sgp4)\n",
    "print_metrics(\"LR – Total Score:\", pred_lr)\n",
    "print_metrics(\"IDAO – Total Score:\", pred_idao)"
   ]
  },
  {
   "cell_type": "markdown",
   "metadata": {
    "colab_type": "text",
    "id": "MH1MYXDqwcYz"
   },
   "source": [
    "Pytorch working with different length of seq"
   ]
  },
  {
   "cell_type": "markdown",
   "metadata": {
    "colab_type": "text",
    "id": "AHKHCg_BTfoe"
   },
   "source": [
    "Anti crash"
   ]
  },
  {
   "cell_type": "code",
   "execution_count": 0,
   "metadata": {
    "colab": {
     "base_uri": "https://localhost:8080/",
     "height": 346
    },
    "colab_type": "code",
    "id": "sFOGuUmH49Oa",
    "outputId": "65cf8af9-5e2a-41cb-ed3f-20cb194d79b4"
   },
   "outputs": [
    {
     "data": {
      "image/png": "[encoded data removed]",
      "text/plain": [
       "<Figure size 432x288 with 1 Axes>"
      ]
     },
     "metadata": {
      "needs_background": "light",
      "tags": []
     },
     "output_type": "display_data"
    },
    {
     "name": "stderr",
     "output_type": "stream",
     "text": [
      "\n",
      "\n",
      "100%|██████████| 1000/1000 [19:38<00:00,  1.18s/it]\n"
     ]
    }
   ],
   "source": [
    "from sklearn.linear_model import LinearRegression\n",
    "import numpy as np\n",
    "import pandas as pd\n",
    "from numpy import newaxis\n",
    "import pandas as pd\n",
    "from keras.layers.core import Dense, Activation, Dropout, Flatten\n",
    "from keras.layers.recurrent import LSTM, GRU\n",
    "from keras.models import Sequential\n",
    "from keras import optimizers\n",
    "from sklearn.preprocessing import MinMaxScaler\n",
    "import matplotlib.pyplot as plt\n",
    "import torch\n",
    "import torch.nn as nn\n",
    "from torch import optim\n",
    "import torch.nn.functional as F\n",
    "from IPython.display import clear_output\n",
    "from torch.utils.data import TensorDataset, DataLoader\n",
    "from torch.optim.lr_scheduler import _LRScheduler\n",
    "%matplotlib inline\n",
    "\n",
    "torch.manual_seed(1337)\n",
    "np.random.seed(1337)\n",
    "\n",
    "if torch.cuda.is_available():\n",
    "    DEVICE = 'cuda:0'\n",
    "    torch.cuda.manual_seed(1337)\n",
    "else:\n",
    "    DEVICE = None\n",
    "\n",
    "data_path = '/content/drive/My Drive/Diplom/data'\n",
    "df_train = pd.read_csv(data_path + '/train.csv', index_col=\"id\")\n",
    "df_test = pd.read_csv(data_path + '/test.csv', index_col=\"id\")\n",
    "df_test_ans = pd.read_csv(data_path + \"/ans.csv\", index_col=\"id\")\n",
    "df_test_ans['sat_id'] = df_test['sat_id']\n",
    "df_pred_sgp4 = pd.read_csv(data_path + \"/pred_sgp.csv\", index_col=\"id\")\n",
    "\n",
    "n_sat = len(pd.unique(df_train[\"sat_id\"]))\n",
    "sc = MinMaxScaler(feature_range=(0,1))\n",
    "BATCH = n_sat\n",
    "from tqdm import tqdm\n",
    "feature_cols = [\"x_sim\", \"y_sim\", \"z_sim\", \"Vx_sim\", \"Vy_sim\", \"Vz_sim\"]\n",
    "\n",
    "target_cols = [\"x\", \"y\", \"z\", \"Vx\", \"Vy\", \"Vz\"]\n",
    "\n",
    "X_lengths = []\n",
    "Y_lengths = []\n",
    "def data_preproc(df):\n",
    "    n_sat = len(pd.unique(df[\"sat_id\"]))\n",
    "    df[feature_cols] = sc.fit_transform(df[feature_cols])\n",
    "    X = []\n",
    "    Y = []\n",
    "    for i in range(n_sat):\n",
    "        x = df[df['sat_id'] == i].sort_values(['epoch'])[feature_cols].to_numpy()\n",
    "        y = df[df['sat_id'] == i].sort_values(['epoch'])[target_cols].to_numpy()\n",
    "        X.append(x)\n",
    "        Y.append(y)\n",
    "    c = list(zip(X, Y))\n",
    "    c.sort(key=lambda x: x[0].shape[0])\n",
    "    X = []\n",
    "    Y = []\n",
    "    for x, y in c:\n",
    "        X.append(x)\n",
    "        Y.append(y)\n",
    "    X = X[::-1]\n",
    "    Y = Y[::-1]\n",
    "    X_lengths = [len(sentence) for sentence in X]\n",
    "    pad_token = 0\n",
    "    longest_sent = max(X_lengths)\n",
    "    batch_size = len(X)\n",
    "    padded_X = np.ones((batch_size, longest_sent, 6)) * pad_token\n",
    "    for i, x_len in enumerate(X_lengths):\n",
    "        sequence = X[i]\n",
    "        padded_X[i, 0:x_len] = sequence[:x_len]\n",
    "\n",
    "    Y_lengths = [len(sentence) for sentence in Y]\n",
    "    pad_token = 0\n",
    "    longest_sent = max(Y_lengths)\n",
    "    batch_size = len(Y)\n",
    "    padded_Y = np.ones((batch_size, longest_sent, 6)) * pad_token\n",
    "    for i, y_len in enumerate(Y_lengths):\n",
    "        sequence = Y[i]\n",
    "        padded_Y[i, 0:y_len] = sequence[:y_len]\n",
    "    return padded_X, padded_Y, X_lengths, Y_lengths\n",
    "X_lengths = torch.tensor(X_lengths)\n",
    "Y_lengths = torch.tensor(Y_lengths)\n",
    "x, y, X_lengths, Y_lengths = data_preproc(df_train)\n",
    "\n",
    "\n",
    "X_lengths = torch.tensor(X_lengths)\n",
    "Y_lengths = torch.tensor(Y_lengths)\n",
    "X_lengths.size(), Y_lengths.size()\n",
    "train_ds = TensorDataset(torch.tensor(x), torch.tensor(y))\n",
    "train_dl = DataLoader(train_ds, BATCH, shuffle=False)\n",
    "\n",
    "class SLSTM(nn.Module):\n",
    "    def __init__(self, nb_layers=10, nb_lstm_units=10, embedding_dim=6, batch_size=BATCH):\n",
    "        super(SLSTM, self).__init__()\n",
    "        self.nb_layers = nb_layers\n",
    "        self.nb_lstm_units = nb_lstm_units\n",
    "        self.embedding_dim = embedding_dim\n",
    "        self.batch_size = batch_size\n",
    "        self.out_size = 6\n",
    "        self.nb_lstm_layers = nb_layers\n",
    "\n",
    "        self.__build_model()\n",
    "\n",
    "    def __build_model(self):\n",
    "\n",
    "        self.lstm = nn.LSTM(\n",
    "            input_size=self.embedding_dim,\n",
    "            hidden_size=self.nb_lstm_units,\n",
    "            num_layers=self.nb_lstm_layers,\n",
    "            batch_first=True,\n",
    "        )\n",
    "\n",
    "        self.fc = nn.Linear(self.nb_lstm_units, self.out_size)\n",
    "\n",
    "    def init_hidden(self):\n",
    "        hidden_a = torch.randn(self.nb_lstm_layers, self.batch_size, self.nb_lstm_units)\n",
    "        hidden_b = torch.randn(self.nb_lstm_layers, self.batch_size, self.nb_lstm_units)\n",
    "\n",
    "        hidden_a = hidden_a.cuda()\n",
    "        hidden_b = hidden_b.cuda()\n",
    "\n",
    "        hidden_a = torch.tensor(hidden_a)\n",
    "        hidden_b = torch.tensor(hidden_b)\n",
    "\n",
    "        return (hidden_a, hidden_b)\n",
    "\n",
    "    def forward(self, X, X_lengths):\n",
    "        self.hidden = self.init_hidden()\n",
    "        X = X.float()\n",
    "        batch_size, seq_len, _ = X.size()\n",
    "        X = torch.nn.utils.rnn.pack_padded_sequence(X, X_lengths, batch_first=True)\n",
    "        X, self.hidden = self.lstm(X, self.hidden)\n",
    "        X, _ = torch.nn.utils.rnn.pad_packed_sequence(X, batch_first=True)\n",
    "        X = X.contiguous()\n",
    "        X = X.view(-1, X.shape[2])\n",
    "        X = self.fc(X)\n",
    "        X = X.view(batch_size, X_lengths.max(), self.out_size)\n",
    "\n",
    "        Y_hat = X\n",
    "        return Y_hat\n",
    "\n",
    "    def loss(self, Y_hat, Y, X_lengths):\n",
    "\n",
    "        pad_token = torch.tensor([0, 0, 0, 0, 0, 0]).float().cuda()\n",
    "        Y = Y.view(Y.shape[0] * Y.shape[1], 6)\n",
    "        Y_hat = Y_hat.view(Y_hat.shape[0] * Y_hat.shape[1], 6)\n",
    "        mask = (Y.sum(axis=1) !=0)\n",
    "        Y_hat[mask] =  pad_token\n",
    "        mse_loss = torch.mean((Y_hat - Y)**2)\n",
    "\n",
    "        return mse_loss\n",
    "\n",
    "class CyclicLR(_LRScheduler):\n",
    "    \n",
    "    def __init__(self, optimizer, schedule, last_epoch=-1):\n",
    "        assert callable(schedule)\n",
    "        self.schedule = schedule\n",
    "        super().__init__(optimizer, last_epoch)\n",
    "\n",
    "    def get_lr(self):\n",
    "        return [self.schedule(self.last_epoch, lr) for lr in self.base_lrs]\n",
    "        \n",
    "def cosine(t_max, eta_min=0):\n",
    "    \n",
    "    def scheduler(epoch, base_lr):\n",
    "        t = epoch % t_max\n",
    "        return eta_min + (base_lr - eta_min)*(1 + np.cos(np.pi*t/t_max))/2\n",
    "    \n",
    "    return scheduler\n",
    "\n",
    "def train_epoch(model, optimizer, X_train):\n",
    "    loss_log = []\n",
    "    model.train()\n",
    "    for i, (x_batch, y_batch) in enumerate(X_train):\n",
    "        model.train()\n",
    "        \n",
    "        x_batch = x_batch.cuda()\n",
    "        y_batch = y_batch.cuda()\n",
    "        sched.step()\n",
    "        opt.zero_grad()\n",
    "        out = model(x_batch, X_lengths[i*x_batch.shape[0]:min((i+1)*x_batch.shape[0], X_lengths.shape[0])])\n",
    "        loss = model.loss(out, y_batch, X_lengths[i*x_batch.shape[0]:min((i+1)*x_batch.shape[0], X_lengths.shape[0])])\n",
    "        loss.backward()\n",
    "        opt.step()\n",
    "        loss = loss.item()\n",
    "        loss_log.append(loss)\n",
    "    return loss_log   \n",
    "\n",
    "def plot_history(train_history, title='loss'):\n",
    "    clear_output()\n",
    "    plt.figure()\n",
    "    plt.title('{}'.format(title))\n",
    "    plt.plot(train_history, label='train', zorder=1)\n",
    "    plt.xlabel('train steps')\n",
    "    plt.legend(loc='best')\n",
    "    plt.grid()\n",
    "    plt.show()\n",
    "    \n",
    "def train(model, opt, n_epochs, X_train):\n",
    "    train_log = []\n",
    "    for epoch in tqdm(range(n_epochs)):\n",
    "        print(\"Epoch {0} of {1}\".format(epoch, n_epochs))\n",
    "        train_loss = train_epoch(model, opt, X_train)\n",
    "        train_log.extend(train_loss)\n",
    "        plot_history(train_log)\n",
    "\n",
    "lr = 0.0005\n",
    "iterations_per_epoch = len(train_dl)\n",
    "model = SLSTM()\n",
    "model.to(DEVICE)\n",
    "opt = torch.optim.RMSprop(model.parameters(), lr=lr)\n",
    "sched = CyclicLR(opt, cosine(t_max=iterations_per_epoch * 2, eta_min=lr/100))\n",
    "train(model, opt, 1000, train_dl)\n"
   ]
  },
  {
   "cell_type": "code",
   "execution_count": 0,
   "metadata": {
    "colab": {
     "base_uri": "https://localhost:8080/",
     "height": 235
    },
    "colab_type": "code",
    "id": "omDuyPEof_WQ",
    "outputId": "17ee1b7a-737d-4111-9ab6-6b3bb83e84b0"
   },
   "outputs": [
    {
     "data": {
      "text/html": [
       "<div>\n",
       "<style scoped>\n",
       "    .dataframe tbody tr th:only-of-type {\n",
       "        vertical-align: middle;\n",
       "    }\n",
       "\n",
       "    .dataframe tbody tr th {\n",
       "        vertical-align: top;\n",
       "    }\n",
       "\n",
       "    .dataframe thead th {\n",
       "        text-align: right;\n",
       "    }\n",
       "</style>\n",
       "<table border=\"1\" class=\"dataframe\">\n",
       "  <thead>\n",
       "    <tr style=\"text-align: right;\">\n",
       "      <th></th>\n",
       "      <th>sat_id</th>\n",
       "      <th>epoch</th>\n",
       "      <th>x_sim</th>\n",
       "      <th>y_sim</th>\n",
       "      <th>z_sim</th>\n",
       "      <th>Vx_sim</th>\n",
       "      <th>Vy_sim</th>\n",
       "      <th>Vz_sim</th>\n",
       "    </tr>\n",
       "    <tr>\n",
       "      <th>id</th>\n",
       "      <th></th>\n",
       "      <th></th>\n",
       "      <th></th>\n",
       "      <th></th>\n",
       "      <th></th>\n",
       "      <th></th>\n",
       "      <th></th>\n",
       "      <th></th>\n",
       "    </tr>\n",
       "  </thead>\n",
       "  <tbody>\n",
       "    <tr>\n",
       "      <th>215</th>\n",
       "      <td>0</td>\n",
       "      <td>2014-02-01T00:05:07.344</td>\n",
       "      <td>-28099.394464</td>\n",
       "      <td>-31393.873066</td>\n",
       "      <td>27879.580116</td>\n",
       "      <td>-2.048926</td>\n",
       "      <td>1.980606</td>\n",
       "      <td>-1.879962</td>\n",
       "    </tr>\n",
       "    <tr>\n",
       "      <th>216</th>\n",
       "      <td>0</td>\n",
       "      <td>2014-02-01T03:32:46.448</td>\n",
       "      <td>-42644.222149</td>\n",
       "      <td>-288.393217</td>\n",
       "      <td>-1087.275407</td>\n",
       "      <td>0.015348</td>\n",
       "      <td>2.814050</td>\n",
       "      <td>-2.577676</td>\n",
       "    </tr>\n",
       "    <tr>\n",
       "      <th>217</th>\n",
       "      <td>0</td>\n",
       "      <td>2014-02-01T07:00:25.552</td>\n",
       "      <td>-27979.382752</td>\n",
       "      <td>31096.467597</td>\n",
       "      <td>-29369.026222</td>\n",
       "      <td>2.033737</td>\n",
       "      <td>2.029262</td>\n",
       "      <td>-1.794169</td>\n",
       "    </tr>\n",
       "    <tr>\n",
       "      <th>218</th>\n",
       "      <td>0</td>\n",
       "      <td>2014-02-01T10:28:04.656</td>\n",
       "      <td>896.126549</td>\n",
       "      <td>49712.580025</td>\n",
       "      <td>-45492.481646</td>\n",
       "      <td>2.433120</td>\n",
       "      <td>1.022877</td>\n",
       "      <td>-0.859440</td>\n",
       "    </tr>\n",
       "    <tr>\n",
       "      <th>219</th>\n",
       "      <td>0</td>\n",
       "      <td>2014-02-01T13:55:43.760</td>\n",
       "      <td>30391.384369</td>\n",
       "      <td>58185.560870</td>\n",
       "      <td>-52301.500238</td>\n",
       "      <td>2.267209</td>\n",
       "      <td>0.390206</td>\n",
       "      <td>-0.285250</td>\n",
       "    </tr>\n",
       "  </tbody>\n",
       "</table>\n",
       "</div>"
      ],
      "text/plain": [
       "     sat_id                    epoch  ...    Vy_sim    Vz_sim\n",
       "id                                    ...                    \n",
       "215       0  2014-02-01T00:05:07.344  ...  1.980606 -1.879962\n",
       "216       0  2014-02-01T03:32:46.448  ...  2.814050 -2.577676\n",
       "217       0  2014-02-01T07:00:25.552  ...  2.029262 -1.794169\n",
       "218       0  2014-02-01T10:28:04.656  ...  1.022877 -0.859440\n",
       "219       0  2014-02-01T13:55:43.760  ...  0.390206 -0.285250\n",
       "\n",
       "[5 rows x 8 columns]"
      ]
     },
     "execution_count": 42,
     "metadata": {
      "tags": []
     },
     "output_type": "execute_result"
    }
   ],
   "source": [
    "df_test.head()"
   ]
  },
  {
   "cell_type": "code",
   "execution_count": 0,
   "metadata": {
    "colab": {},
    "colab_type": "code",
    "id": "lUaRmhmtV3XM"
   },
   "outputs": [],
   "source": [
    "def test_data_preproc(df):\n",
    "    df[feature_cols] = sc.fit_transform(df[feature_cols])\n",
    "    X = torch.tensor(df[feature_cols].values)\n",
    "    X = X.view(X.shape[0], 1, 6)\n",
    "    return X"
   ]
  },
  {
   "cell_type": "code",
   "execution_count": 0,
   "metadata": {
    "colab": {
     "base_uri": "https://localhost:8080/",
     "height": 235
    },
    "colab_type": "code",
    "id": "ZiDilfECrYGr",
    "outputId": "51197b42-1e4c-455f-8c96-7569e5dcc712"
   },
   "outputs": [
    {
     "data": {
      "text/html": [
       "<div>\n",
       "<style scoped>\n",
       "    .dataframe tbody tr th:only-of-type {\n",
       "        vertical-align: middle;\n",
       "    }\n",
       "\n",
       "    .dataframe tbody tr th {\n",
       "        vertical-align: top;\n",
       "    }\n",
       "\n",
       "    .dataframe thead th {\n",
       "        text-align: right;\n",
       "    }\n",
       "</style>\n",
       "<table border=\"1\" class=\"dataframe\">\n",
       "  <thead>\n",
       "    <tr style=\"text-align: right;\">\n",
       "      <th></th>\n",
       "      <th>x</th>\n",
       "      <th>y</th>\n",
       "      <th>z</th>\n",
       "      <th>Vx</th>\n",
       "      <th>Vy</th>\n",
       "      <th>Vz</th>\n",
       "      <th>sat_id</th>\n",
       "    </tr>\n",
       "    <tr>\n",
       "      <th>id</th>\n",
       "      <th></th>\n",
       "      <th></th>\n",
       "      <th></th>\n",
       "      <th></th>\n",
       "      <th></th>\n",
       "      <th></th>\n",
       "      <th></th>\n",
       "    </tr>\n",
       "  </thead>\n",
       "  <tbody>\n",
       "    <tr>\n",
       "      <th>215</th>\n",
       "      <td>-30992.169683</td>\n",
       "      <td>-29136.390673</td>\n",
       "      <td>25178.674635</td>\n",
       "      <td>-1.911277</td>\n",
       "      <td>2.118534</td>\n",
       "      <td>-1.964551</td>\n",
       "      <td>0</td>\n",
       "    </tr>\n",
       "    <tr>\n",
       "      <th>216</th>\n",
       "      <td>-42746.725504</td>\n",
       "      <td>3114.006255</td>\n",
       "      <td>-4170.339105</td>\n",
       "      <td>0.280350</td>\n",
       "      <td>2.818395</td>\n",
       "      <td>-2.522796</td>\n",
       "      <td>0</td>\n",
       "    </tr>\n",
       "    <tr>\n",
       "      <th>217</th>\n",
       "      <td>-25811.740855</td>\n",
       "      <td>33700.249402</td>\n",
       "      <td>-31101.368327</td>\n",
       "      <td>2.118865</td>\n",
       "      <td>1.934959</td>\n",
       "      <td>-1.669977</td>\n",
       "      <td>0</td>\n",
       "    </tr>\n",
       "    <tr>\n",
       "      <th>218</th>\n",
       "      <td>3470.877327</td>\n",
       "      <td>51307.377712</td>\n",
       "      <td>-45974.857869</td>\n",
       "      <td>2.429820</td>\n",
       "      <td>0.956797</td>\n",
       "      <td>-0.781210</td>\n",
       "      <td>0</td>\n",
       "    </tr>\n",
       "    <tr>\n",
       "      <th>219</th>\n",
       "      <td>32802.355913</td>\n",
       "      <td>59110.422155</td>\n",
       "      <td>-52039.149952</td>\n",
       "      <td>2.244968</td>\n",
       "      <td>0.346241</td>\n",
       "      <td>-0.238677</td>\n",
       "      <td>0</td>\n",
       "    </tr>\n",
       "  </tbody>\n",
       "</table>\n",
       "</div>"
      ],
      "text/plain": [
       "                x             y             z  ...        Vy        Vz  sat_id\n",
       "id                                             ...                            \n",
       "215 -30992.169683 -29136.390673  25178.674635  ...  2.118534 -1.964551       0\n",
       "216 -42746.725504   3114.006255  -4170.339105  ...  2.818395 -2.522796       0\n",
       "217 -25811.740855  33700.249402 -31101.368327  ...  1.934959 -1.669977       0\n",
       "218   3470.877327  51307.377712 -45974.857869  ...  0.956797 -0.781210       0\n",
       "219  32802.355913  59110.422155 -52039.149952  ...  0.346241 -0.238677       0\n",
       "\n",
       "[5 rows x 7 columns]"
      ]
     },
     "execution_count": 84,
     "metadata": {
      "tags": []
     },
     "output_type": "execute_result"
    }
   ],
   "source": [
    "df_test_ans.head()"
   ]
  },
  {
   "cell_type": "code",
   "execution_count": 0,
   "metadata": {
    "colab": {},
    "colab_type": "code",
    "id": "2B6wIZVoWJ4E"
   },
   "outputs": [],
   "source": [
    "def test(model, name, df_test):\n",
    "    pred = pd.DataFrame(columns=target_cols, index=df_test.index)\n",
    "    X_test = test_data_preproc(df_test)\n",
    "    test_ds = TensorDataset(X_test, torch.zeros(X_test.shape))\n",
    "    test_dl = DataLoader(test_ds, BATCH, shuffle=False)\n",
    "    pred[\"sat_id\"] = df_test[\"sat_id\"]\n",
    "    p = []\n",
    "    for i, (x_batch, y_batch) in enumerate(test_dl):\n",
    "        model.eval()\n",
    "        l = torch.tensor([1 for i in range(x_batch.shape[0])])\n",
    "        if x_batch.shape[0] < 600:\n",
    "              break\n",
    "        p.append(model(x_batch.cuda(), l).cpu().detach().numpy())\n",
    "    p = np.concatenate(p, axis=0)\n",
    "    p = p.reshape(302400, 6)\n",
    "    p = p.tolist()\n",
    "    for i in range(58):\n",
    "        p.append(np.array([0, 0, 0, 0, 0, 0]))\n",
    "    p = np.array(p)\n",
    "    print(p.shape)\n",
    "    for i, col in enumerate(target_cols):\n",
    "        pred[col] = p[:, i]\n",
    "    print_metrics(name, pred)"
   ]
  },
  {
   "cell_type": "code",
   "execution_count": 0,
   "metadata": {
    "colab": {
     "base_uri": "https://localhost:8080/",
     "height": 207
    },
    "colab_type": "code",
    "id": "sSkpOZnSj3Zp",
    "outputId": "1d8afbbb-cac8-4a53-df3e-cbc3635591f5"
   },
   "outputs": [
    {
     "name": "stdout",
     "output_type": "stream",
     "text": [
      "torch.Size([302458, 1, 6])\n"
     ]
    },
    {
     "name": "stderr",
     "output_type": "stream",
     "text": [
      "/usr/local/lib/python3.6/dist-packages/ipykernel_launcher.py:136: UserWarning: To copy construct from a tensor, it is recommended to use sourceTensor.clone().detach() or sourceTensor.clone().detach().requires_grad_(True), rather than torch.tensor(sourceTensor).\n",
      "/usr/local/lib/python3.6/dist-packages/ipykernel_launcher.py:137: UserWarning: To copy construct from a tensor, it is recommended to use sourceTensor.clone().detach() or sourceTensor.clone().detach().requires_grad_(True), rather than torch.tensor(sourceTensor).\n"
     ]
    },
    {
     "name": "stdout",
     "output_type": "stream",
     "text": [
      "(302458, 6)\n",
      "\n",
      "LSTM\n",
      "\n",
      "IDAO score:  5.284889278373406\n",
      "SMAPE IDAO:  0.9471511072162659\n",
      "SMAPE new:   1.919529380417498\n"
     ]
    }
   ],
   "source": [
    "test(model, 'LSTM', df_test)"
   ]
  },
  {
   "cell_type": "code",
   "execution_count": 0,
   "metadata": {
    "colab": {
     "base_uri": "https://localhost:8080/",
     "height": 34
    },
    "colab_type": "code",
    "id": "43247MeibYPI",
    "outputId": "f61ba222-796b-4bdc-ca5d-b40fdebeee6a"
   },
   "outputs": [
    {
     "data": {
      "text/plain": [
       "array([ True, False, False, False])"
      ]
     },
     "execution_count": 29,
     "metadata": {
      "tags": []
     },
     "output_type": "execute_result"
    }
   ],
   "source": [
    "mask = (a.sum(axis=1) == 6)\n",
    "mask"
   ]
  },
  {
   "cell_type": "code",
   "execution_count": 0,
   "metadata": {
    "colab": {
     "base_uri": "https://localhost:8080/",
     "height": 34
    },
    "colab_type": "code",
    "id": "4fyNG_BvbZCr",
    "outputId": "ec37c0ba-287f-46c2-e8f7-8bb0484cf8a3"
   },
   "outputs": [
    {
     "data": {
      "text/plain": [
       "array([[1, 2, 3]])"
      ]
     },
     "execution_count": 30,
     "metadata": {
      "tags": []
     },
     "output_type": "execute_result"
    }
   ],
   "source": [
    "a[mask]"
   ]
  },
  {
   "cell_type": "code",
   "execution_count": 0,
   "metadata": {
    "colab": {
     "base_uri": "https://localhost:8080/",
     "height": 34
    },
    "colab_type": "code",
    "id": "RAG18_srbroU",
    "outputId": "22911d53-e6eb-4ac4-e146-8fbea75a79c5"
   },
   "outputs": [
    {
     "data": {
      "text/plain": [
       "(4, 3)"
      ]
     },
     "execution_count": 28,
     "metadata": {
      "tags": []
     },
     "output_type": "execute_result"
    }
   ],
   "source": [
    "a.shape"
   ]
  }
 ],
 "metadata": {
  "accelerator": "GPU",
  "colab": {
   "collapsed_sections": [],
   "name": "rnn.ipynb",
   "provenance": [],
   "toc_visible": true
  },
  "kernelspec": {
   "display_name": "Python 3",
   "language": "python",
   "name": "python3"
  },
  "language_info": {
   "codemirror_mode": {
    "name": "ipython",
    "version": 3
   },
   "file_extension": ".py",
   "mimetype": "text/x-python",
   "name": "python",
   "nbconvert_exporter": "python",
   "pygments_lexer": "ipython3",
   "version": "3.7.6"
  }
 },
 "nbformat": 4,
 "nbformat_minor": 1
}
