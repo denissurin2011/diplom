{
  "nbformat": 4,
  "nbformat_minor": 0,
  "metadata": {
    "kernelspec": {
      "display_name": "Python 3",
      "language": "python",
      "name": "python3"
    },
    "language_info": {
      "codemirror_mode": {
        "name": "ipython",
        "version": 3
      },
      "file_extension": ".py",
      "mimetype": "text/x-python",
      "name": "python",
      "nbconvert_exporter": "python",
      "pygments_lexer": "ipython3",
      "version": "3.7.6"
    },
    "colab": {
      "name": "rnn.ipynb",
      "provenance": [],
      "collapsed_sections": [],
      "toc_visible": true
    },
    "accelerator": "TPU"
  },
  "cells": [
    {
      "cell_type": "code",
      "metadata": {
        "id": "OMFEZ9S8zSvS",
        "colab_type": "code",
        "colab": {}
      },
      "source": [
        "from sklearn.linear_model import LinearRegression\n",
        "import numpy as np\n",
        "import pandas as pd\n",
        "%matplotlib inline"
      ],
      "execution_count": 0,
      "outputs": []
    },
    {
      "cell_type": "code",
      "metadata": {
        "id": "BmVRLUSwzcEl",
        "colab_type": "code",
        "outputId": "21924db5-d6fe-41e2-e376-a09d6520f341",
        "colab": {
          "base_uri": "https://localhost:8080/",
          "height": 34
        }
      },
      "source": [
        "from google.colab import drive\n",
        "drive.mount('/content/drive')"
      ],
      "execution_count": 267,
      "outputs": [
        {
          "output_type": "stream",
          "text": [
            "Drive already mounted at /content/drive; to attempt to forcibly remount, call drive.mount(\"/content/drive\", force_remount=True).\n"
          ],
          "name": "stdout"
        }
      ]
    },
    {
      "cell_type": "markdown",
      "metadata": {
        "id": "pI_01sgHzSvb",
        "colab_type": "text"
      },
      "source": [
        "# Data"
      ]
    },
    {
      "cell_type": "code",
      "metadata": {
        "id": "DUdMFq8Azpm2",
        "colab_type": "code",
        "colab": {}
      },
      "source": [
        "data_path = '/content/drive/My Drive/Diplom/data'"
      ],
      "execution_count": 0,
      "outputs": []
    },
    {
      "cell_type": "code",
      "metadata": {
        "id": "aju4BfrrzSvd",
        "colab_type": "code",
        "colab": {}
      },
      "source": [
        "df_train = pd.read_csv(data_path + '/train.csv', index_col=\"id\")\n",
        "df_test = pd.read_csv(data_path + '/test.csv', index_col=\"id\")\n",
        "df_test_ans = pd.read_csv(data_path + \"/ans.csv\", index_col=\"id\")\n",
        "df_test_ans['sat_id'] = df_test['sat_id']\n",
        "df_pred_sgp4 = pd.read_csv(data_path + \"/pred_sgp.csv\", index_col=\"id\")\n",
        "\n",
        "n_sat = len(pd.unique(df_train[\"sat_id\"]))"
      ],
      "execution_count": 0,
      "outputs": []
    },
    {
      "cell_type": "code",
      "metadata": {
        "id": "k_7lwdPHzh_a",
        "colab_type": "code",
        "colab": {}
      },
      "source": [
        "from tqdm import tqdm"
      ],
      "execution_count": 0,
      "outputs": []
    },
    {
      "cell_type": "code",
      "metadata": {
        "id": "pB0pvcO_zghB",
        "colab_type": "code",
        "colab": {}
      },
      "source": [
        "# features columns \n",
        "feature_cols = [\"x_sim\", \"y_sim\", \"z_sim\", \"Vx_sim\", \"Vy_sim\", \"Vz_sim\"]\n",
        "\n",
        "# target variables columns \n",
        "target_cols = [\"x\", \"y\", \"z\", \"Vx\", \"Vy\", \"Vz\"]"
      ],
      "execution_count": 0,
      "outputs": []
    },
    {
      "cell_type": "code",
      "metadata": {
        "id": "nGTcVKYDrxzv",
        "colab_type": "code",
        "colab": {}
      },
      "source": [
        "def getX(df, feature_cols, target_cols):\n",
        "  X_train = []\n",
        "  y_train = []\n",
        "  for i in range(n_sat):\n",
        "    x = df[df['sat_id'] == i].sort_values(['epoch'])[feature_cols].to_numpy()\n",
        "    y = df[df['sat_id'] == i].sort_values(['epoch'])[target_cols].to_numpy()\n",
        "    X_train.append(x)\n",
        "    y_train.append(y)\n",
        "  return X_train, y_train"
      ],
      "execution_count": 0,
      "outputs": []
    },
    {
      "cell_type": "code",
      "metadata": {
        "id": "6JIwKjKu31Fn",
        "colab_type": "code",
        "colab": {}
      },
      "source": [
        "X_train, y_train = getX(df_train, feature_cols, target_cols)"
      ],
      "execution_count": 0,
      "outputs": []
    },
    {
      "cell_type": "code",
      "metadata": {
        "id": "tyhj9UFG4oeT",
        "colab_type": "code",
        "colab": {}
      },
      "source": [
        "y_train.shape"
      ],
      "execution_count": 0,
      "outputs": []
    },
    {
      "cell_type": "markdown",
      "metadata": {
        "id": "37BA75mCzSv3",
        "colab_type": "text"
      },
      "source": [
        "# RNN"
      ]
    },
    {
      "cell_type": "code",
      "metadata": {
        "id": "6b2sdjzHzSv3",
        "colab_type": "code",
        "colab": {}
      },
      "source": [
        "import numpy as np \n",
        "from numpy import newaxis\n",
        "import pandas as pd\n",
        "from keras.layers.core import Dense, Activation, Dropout, Flatten\n",
        "from keras.layers.recurrent import LSTM, GRU\n",
        "from keras.models import Sequential\n",
        "from keras import optimizers\n",
        "from sklearn.preprocessing import MinMaxScaler\n",
        "import matplotlib.pyplot as plt"
      ],
      "execution_count": 0,
      "outputs": []
    },
    {
      "cell_type": "code",
      "metadata": {
        "id": "S0B_zpD7nBNl",
        "colab_type": "code",
        "colab": {}
      },
      "source": [
        "import torch\n",
        "import torch.nn as nn\n",
        "from torch import optim\n",
        "import torch.nn.functional as F\n",
        "from IPython.display import clear_output"
      ],
      "execution_count": 0,
      "outputs": []
    },
    {
      "cell_type": "code",
      "metadata": {
        "id": "-h_B0N-WOIbh",
        "colab_type": "code",
        "colab": {}
      },
      "source": [
        "class LSTM_bases(nn.Module):\n",
        "    def __init__(self):\n",
        "        super().__init__()\n",
        "        self.lstm = nn.LSTM(6, 6)\n",
        "        self.lin = nn.Linear(6, 6)\n",
        "    \n",
        "    def forward(self, X):\n",
        "        h = (torch.randn(1, 1, 6), torch.randn(1, 1, 6))\n",
        "        outputs = []\n",
        "        for x in X:\n",
        "          out, h = self.lstm(x.view(1, 1, -1).float(), h)\n",
        "          out1 = self.lin(out)\n",
        "          outputs.append(out1)\n",
        "        outputs = torch.stack(outputs, 1).squeeze(2)\n",
        "        return outputs"
      ],
      "execution_count": 0,
      "outputs": []
    },
    {
      "cell_type": "code",
      "metadata": {
        "id": "Xji7fkh-IK-c",
        "colab_type": "code",
        "colab": {}
      },
      "source": [
        "class RNN_bases(nn.Module):\n",
        "    def __init__(self):\n",
        "        super().__init__()\n",
        "        self.lstm = nn.RNN(6, 6)\n",
        "        self.lin = nn.Linear(6, 6)\n",
        "    \n",
        "    def forward(self, X):\n",
        "        h = torch.randn(1, 1, 6)\n",
        "        outputs = []\n",
        "        for x in X:\n",
        "          out, h = self.lstm(x.view(1, 1, -1).float(), h)\n",
        "          out1 = self.lin(out)\n",
        "          outputs.append(out1)\n",
        "        outputs = torch.stack(outputs, 1).squeeze(2)\n",
        "        return outputs"
      ],
      "execution_count": 0,
      "outputs": []
    },
    {
      "cell_type": "code",
      "metadata": {
        "id": "fkZ5TcwlYj2W",
        "colab_type": "code",
        "colab": {}
      },
      "source": [
        "class GRU_bases(nn.Module):\n",
        "    def __init__(self):\n",
        "        super().__init__()\n",
        "        self.lstm = nn.GRU(6, 6)\n",
        "        self.lin = nn.Linear(6, 6)\n",
        "    \n",
        "    def forward(self, X):\n",
        "        h = torch.randn(1, 1, 6)\n",
        "        outputs = []\n",
        "        for x in X:\n",
        "          out, h = self.lstm(x.view(1, 1, -1).float(), h)\n",
        "          out1 = self.lin(out)\n",
        "          outputs.append(out1)\n",
        "        outputs = torch.stack(outputs, 1).squeeze(2)\n",
        "        return outputs"
      ],
      "execution_count": 0,
      "outputs": []
    },
    {
      "cell_type": "code",
      "metadata": {
        "id": "cWHGFFMNLjxL",
        "colab_type": "code",
        "colab": {}
      },
      "source": [
        "def train_epoch(model, optimizer):\n",
        "    loss_log = []\n",
        "    model.train()\n",
        "    for i, data in enumerate(X_train):\n",
        "        target = y_train[i]\n",
        "        target = torch.tensor(target).float()\n",
        "        data = torch.tensor(data)\n",
        "        optimizer.zero_grad()\n",
        "        output = model(data)\n",
        "        loss_function = nn.MSELoss()        \n",
        "        loss = loss_function(output, target)\n",
        "        loss.backward()\n",
        "        optimizer.step()\n",
        "        loss = loss.item()\n",
        "        loss_log.append(loss)\n",
        "    return loss_log   \n",
        "\n",
        "def plot_history(train_history, title='loss'):\n",
        "    clear_output()\n",
        "    plt.figure()\n",
        "    plt.title('{}'.format(title))\n",
        "    plt.plot(train_history, label='train', zorder=1)\n",
        "    plt.xlabel('train steps')\n",
        "    plt.legend(loc='best')\n",
        "    plt.grid()\n",
        "    plt.show()\n",
        "    \n",
        "def train(model, opt, n_epochs):\n",
        "    train_log = []\n",
        "    for epoch in range(n_epochs):\n",
        "        print(\"Epoch {0} of {1}\".format(epoch, n_epochs))\n",
        "        train_loss = train_epoch(model, opt)\n",
        "        train_log.extend(train_loss)\n",
        "        plot_history(train_log)"
      ],
      "execution_count": 0,
      "outputs": []
    },
    {
      "cell_type": "code",
      "metadata": {
        "id": "8xfcO5yA3k5T",
        "colab_type": "code",
        "colab": {}
      },
      "source": [
        "def getX(df, feature_cols, target_cols):\n",
        "  X_train = []\n",
        "  y_train = []\n",
        "  for i in range(n_sat):\n",
        "    x = df[df['sat_id'] == i].sort_values(['epoch'])[feature_cols].to_numpy()\n",
        "    y = df[df['sat_id'] == i].sort_values(['epoch'])[target_cols].to_numpy()\n",
        "    x = np.expand_dims(x, 1)\n",
        "    y = np.expand_dims(y, 1)\n",
        "    X_train.append(x)\n",
        "    y_train.append(y)\n",
        "  return X_train, y_train"
      ],
      "execution_count": 0,
      "outputs": []
    },
    {
      "cell_type": "code",
      "metadata": {
        "id": "d37hbnHp_HyU",
        "colab_type": "code",
        "colab": {}
      },
      "source": [
        "X_train, y_train = getX(df_train, feature_cols, target_cols)"
      ],
      "execution_count": 0,
      "outputs": []
    },
    {
      "cell_type": "code",
      "metadata": {
        "id": "1zdV_U2V3qGf",
        "colab_type": "code",
        "colab": {
          "base_uri": "https://localhost:8080/",
          "height": 34
        },
        "outputId": "e9512d09-d60e-497e-c847-82faa99d57bc"
      },
      "source": [
        "X_train[0].shape"
      ],
      "execution_count": 292,
      "outputs": [
        {
          "output_type": "execute_result",
          "data": {
            "text/plain": [
              "(215, 1, 6)"
            ]
          },
          "metadata": {
            "tags": []
          },
          "execution_count": 292
        }
      ]
    },
    {
      "cell_type": "code",
      "metadata": {
        "id": "2f-BDa4I7oVl",
        "colab_type": "code",
        "colab": {
          "base_uri": "https://localhost:8080/",
          "height": 34
        },
        "outputId": "429fcc13-9792-470d-873e-39b7c9a8e131"
      },
      "source": [
        "y_train[0].shape"
      ],
      "execution_count": 293,
      "outputs": [
        {
          "output_type": "execute_result",
          "data": {
            "text/plain": [
              "(215, 1, 6)"
            ]
          },
          "metadata": {
            "tags": []
          },
          "execution_count": 293
        }
      ]
    },
    {
      "cell_type": "code",
      "metadata": {
        "id": "_my5LsOh8HUX",
        "colab_type": "code",
        "colab": {}
      },
      "source": [
        "import warnings\n",
        "warnings.filterwarnings('ignore')"
      ],
      "execution_count": 0,
      "outputs": []
    },
    {
      "cell_type": "code",
      "metadata": {
        "id": "0gWg_zxIMq2l",
        "colab_type": "code",
        "colab": {
          "base_uri": "https://localhost:8080/",
          "height": 329
        },
        "outputId": "68c4fd2a-96e9-450e-c855-01caffb8dcc0"
      },
      "source": [
        "%%time\n",
        "modelL = LSTM_bases()\n",
        "opt = torch.optim.Adam(model.parameters(), lr=0.0005)\n",
        "train(modelL, opt, 10)"
      ],
      "execution_count": 295,
      "outputs": [
        {
          "output_type": "display_data",
          "data": {
            "image/png": "[encoded data removed]",
            "text/plain": [
              "<Figure size 432x288 with 1 Axes>"
            ]
          },
          "metadata": {
            "tags": [],
            "needs_background": "light"
          }
        },
        {
          "output_type": "stream",
          "text": [
            "CPU times: user 26min 5s, sys: 2.34 s, total: 26min 7s\n",
            "Wall time: 26min 11s\n"
          ],
          "name": "stdout"
        }
      ]
    },
    {
      "cell_type": "code",
      "metadata": {
        "id": "c_fy8Jo-IUA9",
        "colab_type": "code",
        "colab": {
          "base_uri": "https://localhost:8080/",
          "height": 295
        },
        "outputId": "ca5b5674-7385-40e7-8ed7-a599a6dc2069"
      },
      "source": [
        "modelR = RNN_bases()\n",
        "opt = torch.optim.Adam(model.parameters(), lr=0.0005)\n",
        "train(modelR, opt, 10)"
      ],
      "execution_count": 302,
      "outputs": [
        {
          "output_type": "display_data",
          "data": {
            "image/png": "[encoded data removed]",
            "text/plain": [
              "<Figure size 432x288 with 1 Axes>"
            ]
          },
          "metadata": {
            "tags": [],
            "needs_background": "light"
          }
        }
      ]
    },
    {
      "cell_type": "code",
      "metadata": {
        "id": "esEiXDUrY8Zx",
        "colab_type": "code",
        "colab": {
          "base_uri": "https://localhost:8080/",
          "height": 329
        },
        "outputId": "d0ef6bf8-1bfd-4e58-e7a6-221bf2478982"
      },
      "source": [
        "%%time\n",
        "modelG = GRU_bases()\n",
        "opt = torch.optim.Adam(model.parameters(), lr=0.0005)\n",
        "train(modelG, opt, 10)"
      ],
      "execution_count": 304,
      "outputs": [
        {
          "output_type": "display_data",
          "data": {
            "image/png": "[encoded data removed]",
            "text/plain": [
              "<Figure size 432x288 with 1 Axes>"
            ]
          },
          "metadata": {
            "tags": [],
            "needs_background": "light"
          }
        },
        {
          "output_type": "stream",
          "text": [
            "CPU times: user 26min 55s, sys: 2.36 s, total: 26min 58s\n",
            "Wall time: 27min 1s\n"
          ],
          "name": "stdout"
        }
      ]
    },
    {
      "cell_type": "code",
      "metadata": {
        "id": "80R4ffv-9RXQ",
        "colab_type": "code",
        "colab": {}
      },
      "source": [
        "def test(model, name):\n",
        "  pred = pd.DataFrame(columns=target_cols, index=df_test.index)\n",
        "  X_test = df_test[feature_cols].values\n",
        "  pred[\"sat_id\"] = df_test[\"sat_id\"]\n",
        "  p = []\n",
        "  for x in X_test:\n",
        "    model.eval()\n",
        "    p.append(model(torch.tensor(x).float().view(1, -1).view(1, 1, -1)).detach().numpy())\n",
        "  p = np.array(p)\n",
        "  p = p.reshape(302458, 6)\n",
        "  for i, col in enumerate(target_cols):\n",
        "    pred[col] = p[:, i]\n",
        "  print_metrics(name, pred)"
      ],
      "execution_count": 0,
      "outputs": []
    },
    {
      "cell_type": "code",
      "metadata": {
        "id": "jy9gt3_4DFpx",
        "colab_type": "code",
        "colab": {
          "base_uri": "https://localhost:8080/",
          "height": 119
        },
        "outputId": "cb314e2b-ea97-4954-e409-fd384f22f250"
      },
      "source": [
        "test(modelR, 'RNN')"
      ],
      "execution_count": 308,
      "outputs": [
        {
          "output_type": "stream",
          "text": [
            "\n",
            "RNN\n",
            "\n",
            "IDAO score:  11.080449413655803\n",
            "SMAPE IDAO:  0.889195505863442\n",
            "SMAPE new:   1.7780232254877126\n"
          ],
          "name": "stdout"
        }
      ]
    },
    {
      "cell_type": "code",
      "metadata": {
        "id": "gv0ZCXPaZDQ_",
        "colab_type": "code",
        "colab": {
          "base_uri": "https://localhost:8080/",
          "height": 119
        },
        "outputId": "e1de4c95-1062-4447-8351-f2717378b304"
      },
      "source": [
        "test(modelL, 'LSTM')"
      ],
      "execution_count": 309,
      "outputs": [
        {
          "output_type": "stream",
          "text": [
            "\n",
            "LSTM\n",
            "\n",
            "IDAO score:  9.343313382257957\n",
            "SMAPE IDAO:  0.9065668661774204\n",
            "SMAPE new:   1.819967649391191\n"
          ],
          "name": "stdout"
        }
      ]
    },
    {
      "cell_type": "code",
      "metadata": {
        "id": "j6_rxr7HZFDW",
        "colab_type": "code",
        "colab": {
          "base_uri": "https://localhost:8080/",
          "height": 119
        },
        "outputId": "3ee6f0bd-eec3-4e29-e8bb-47813a1e3659"
      },
      "source": [
        "test(modelG, 'GRU')"
      ],
      "execution_count": 310,
      "outputs": [
        {
          "output_type": "stream",
          "text": [
            "\n",
            "GRU\n",
            "\n",
            "IDAO score:  11.492832926745233\n",
            "SMAPE IDAO:  0.8850716707325477\n",
            "SMAPE new:   1.7595817874755963\n"
          ],
          "name": "stdout"
        }
      ]
    },
    {
      "cell_type": "markdown",
      "metadata": {
        "id": "ISENpBkhzSwH",
        "colab_type": "text"
      },
      "source": [
        "# IDAO"
      ]
    },
    {
      "cell_type": "code",
      "metadata": {
        "id": "mNUxAZU8zSwH",
        "colab_type": "code",
        "colab": {}
      },
      "source": [
        "pred_idao = pd.read_csv(data_path + '/sub_idao_example.csv', index_col='id')"
      ],
      "execution_count": 0,
      "outputs": []
    },
    {
      "cell_type": "code",
      "metadata": {
        "id": "hlRdHSkUzSwJ",
        "colab_type": "code",
        "colab": {
          "base_uri": "https://localhost:8080/",
          "height": 164
        },
        "outputId": "89249864-44b0-4d9b-d157-4599cd508b4e"
      },
      "source": [
        "pred_idao['sat_id'] = pred_lr['sat_id']"
      ],
      "execution_count": 244,
      "outputs": [
        {
          "output_type": "error",
          "ename": "NameError",
          "evalue": "ignored",
          "traceback": [
            "\u001b[0;31m---------------------------------------------------------------------------\u001b[0m",
            "\u001b[0;31mNameError\u001b[0m                                 Traceback (most recent call last)",
            "\u001b[0;32m<ipython-input-244-7df345a9a85c>\u001b[0m in \u001b[0;36m<module>\u001b[0;34m()\u001b[0m\n\u001b[0;32m----> 1\u001b[0;31m \u001b[0mpred_idao\u001b[0m\u001b[0;34m[\u001b[0m\u001b[0;34m'sat_id'\u001b[0m\u001b[0;34m]\u001b[0m \u001b[0;34m=\u001b[0m \u001b[0mpred_lr\u001b[0m\u001b[0;34m[\u001b[0m\u001b[0;34m'sat_id'\u001b[0m\u001b[0;34m]\u001b[0m\u001b[0;34m\u001b[0m\u001b[0;34m\u001b[0m\u001b[0m\n\u001b[0m",
            "\u001b[0;31mNameError\u001b[0m: name 'pred_lr' is not defined"
          ]
        }
      ]
    },
    {
      "cell_type": "markdown",
      "metadata": {
        "id": "KUGW-4OKzSwL",
        "colab_type": "text"
      },
      "source": [
        "# Metrics"
      ]
    },
    {
      "cell_type": "code",
      "metadata": {
        "id": "qtKgmwZwzSwM",
        "colab_type": "code",
        "colab": {
          "base_uri": "https://localhost:8080/",
          "height": 300
        },
        "outputId": "89f6465f-7f1d-4a55-c5c7-a768ace5a2fe"
      },
      "source": [
        "from metrics import smape_idao, idao_score, smape_new_vector_norm, mahalanobis_distance"
      ],
      "execution_count": 241,
      "outputs": [
        {
          "output_type": "error",
          "ename": "ModuleNotFoundError",
          "evalue": "ignored",
          "traceback": [
            "\u001b[0;31m---------------------------------------------------------------------------\u001b[0m",
            "\u001b[0;31mModuleNotFoundError\u001b[0m                       Traceback (most recent call last)",
            "\u001b[0;32m<ipython-input-241-a6e203354414>\u001b[0m in \u001b[0;36m<module>\u001b[0;34m()\u001b[0m\n\u001b[0;32m----> 1\u001b[0;31m \u001b[0;32mfrom\u001b[0m \u001b[0mmetrics\u001b[0m \u001b[0;32mimport\u001b[0m \u001b[0msmape_idao\u001b[0m\u001b[0;34m,\u001b[0m \u001b[0midao_score\u001b[0m\u001b[0;34m,\u001b[0m \u001b[0msmape_new_vector_norm\u001b[0m\u001b[0;34m,\u001b[0m \u001b[0mmahalanobis_distance\u001b[0m\u001b[0;34m\u001b[0m\u001b[0;34m\u001b[0m\u001b[0m\n\u001b[0m",
            "\u001b[0;31mModuleNotFoundError\u001b[0m: No module named 'metrics'",
            "",
            "\u001b[0;31m---------------------------------------------------------------------------\u001b[0;32m\nNOTE: If your import is failing due to a missing package, you can\nmanually install dependencies using either !pip or !apt.\n\nTo view examples of installing some common dependencies, click the\n\"Open Examples\" button below.\n\u001b[0;31m---------------------------------------------------------------------------\u001b[0m\n"
          ]
        }
      ]
    },
    {
      "cell_type": "code",
      "metadata": {
        "id": "aaHzTcS9Ctzy",
        "colab_type": "code",
        "colab": {}
      },
      "source": [
        "import numpy as np\n",
        "from scipy.spatial.distance import mahalanobis\n",
        "from numpy.linalg import norm\n",
        "import pandas as pd\n",
        "\n",
        "def smape_idao(pred, ans):\n",
        "    pred = pred.values\n",
        "    ans = ans.values\n",
        "    return np.mean(np.abs(pred - ans) / (np.abs(pred) + np.abs(ans)))\n",
        "\n",
        "def idao_score(pred, ans):\n",
        "    return 100 * (1 - smape_idao(pred, ans))\n",
        "\n",
        "def smape_new_vector_norm(pred, ans, av_score=True):\n",
        "    assert set(ans.columns) == {'y', 'Vy', 'x', 'z', 'Vx', 'sat_id', 'Vz'}\n",
        "    for c in [\"x\", \"y\", \"z\", \"Vx\", \"Vy\", \"Vz\"]:\n",
        "        assert c in pred.columns\n",
        "    assert (ans.index == pred.index).all()\n",
        "    scores = []\n",
        "    if not av_score:\n",
        "        r_losses = v_losses = []\n",
        "    for sat_id in pd.unique(ans[\"sat_id\"]):\n",
        "        idxs = (ans[\"sat_id\"] == sat_id).values\n",
        "        p = pred.loc[idxs, [\"x\", \"y\", \"z\", \"Vx\", \"Vy\", \"Vz\"]].values.astype(\"float\")\n",
        "        a = ans.loc[idxs, [\"x\", \"y\", \"z\", \"Vx\", \"Vy\", \"Vz\"]].values.astype(\"float\")\n",
        "        loss = p - a\n",
        "        # coordinates\n",
        "        r_loss = norm(loss[:, :3], axis=1) / (norm(p[:, :3], axis=1) + norm(a[:, :3], axis=1))\n",
        "        r_loss = np.mean(r_loss)\n",
        "        # velocities\n",
        "        v_loss = norm(loss[:, 3:], axis=1) / (norm(p[:, 3:], axis=1) + norm(a[:, 3:], axis=1))     \n",
        "        v_loss = np.mean(v_loss)\n",
        "        # score\n",
        "        scores.append(r_loss + v_loss)\n",
        "        if not av_score:\n",
        "            r_losses.append(r_loss)            \n",
        "            v_losses.append(v_loss)\n",
        "    if av_score:\n",
        "        return np.mean(scores)\n",
        "    else:\n",
        "        return np.array(scores), np.array(r_losses), np.array(v_losses)\n",
        "\n",
        "def mahalanobis_distance(pred, ans):\n",
        "    # TODO: не ясно откуда берется ковариационная матрица\n",
        "    scores = []\n",
        "    for sat_id in pd.unique(ans[\"sat_id\"]):\n",
        "        idxs = (ans[\"sat_id\"] == sat_id).values\n",
        "        p = pred.loc[idxs, [\"x\", \"y\", \"z\", \"Vx\", \"Vy\", \"Vz\"]]\n",
        "        a = ans.loc[idxs, [\"x\", \"y\", \"z\", \"Vx\", \"Vy\", \"Vz\"]]\n",
        "        # coordinates\n",
        "        r_loss = []\n",
        "        for coord in ['x', 'y', 'z']:\n",
        "            p_coord = p[coord].values.astype(\"float\")\n",
        "            a_coord = a[coord].values.astype(\"float\")\n",
        "            cov = np.cov(np.stack([p_coord, a_coord], axis=1))\n",
        "            r_loss.append(mahalanobis(p_coord, a_coord, cov))\n",
        "        # score\n",
        "        scores.append(r_loss)\n",
        "    return np.mean(scores)\n"
      ],
      "execution_count": 0,
      "outputs": []
    },
    {
      "cell_type": "code",
      "metadata": {
        "id": "YqSrieZBzSwN",
        "colab_type": "code",
        "colab": {}
      },
      "source": [
        "def print_metrics(model_name, pred):\n",
        "    print(f\"\\n{model_name}\\n\")\n",
        "    print(f\"IDAO score:  {idao_score(pred[target_cols], df_test_ans[target_cols])}\")    \n",
        "    print(f\"SMAPE IDAO:  {smape_idao(pred[target_cols], df_test_ans[target_cols])}\")    \n",
        "    print(f\"SMAPE new:   {smape_new_vector_norm(pred, df_test_ans)}\")    \n",
        "#     print(f\"Mahalanobis: {mahalanobis_distance(pred, df_test_ans)}\")"
      ],
      "execution_count": 0,
      "outputs": []
    },
    {
      "cell_type": "code",
      "metadata": {
        "id": "U8VaogM4zSwP",
        "colab_type": "code",
        "outputId": "e55b4991-0715-4267-e706-cc62584d6b87",
        "colab": {}
      },
      "source": [
        "pred_sgp4 = df_pred_sgp4.rename(\n",
        "    columns=dict(zip(feature_cols, target_cols)))\n",
        "\n",
        "print_metrics(\"SGP4 – Total Score:\", pred_sgp4)\n",
        "print_metrics(\"LR – Total Score:\", pred_lr)\n",
        "print_metrics(\"IDAO – Total Score:\", pred_idao)"
      ],
      "execution_count": 0,
      "outputs": [
        {
          "output_type": "stream",
          "text": [
            "\n",
            "SGP4 – Total Score:\n",
            "\n",
            "IDAO score:  85.76745399276147\n",
            "SMAPE IDAO:  0.14232546007238525\n",
            "SMAPE new:   0.2105207081354428\n",
            "\n",
            "LR – Total Score:\n",
            "\n",
            "IDAO score:  91.81678353872567\n",
            "SMAPE IDAO:  0.08183216461274322\n",
            "SMAPE new:   0.1272771961005083\n",
            "\n",
            "IDAO – Total Score:\n",
            "\n",
            "IDAO score:  96.92031297743414\n",
            "SMAPE IDAO:  0.030796870225658628\n",
            "SMAPE new:   0.052050588061025874\n"
          ],
          "name": "stdout"
        }
      ]
    },
    {
      "cell_type": "code",
      "metadata": {
        "id": "sSRtcB1LzSwQ",
        "colab_type": "code",
        "colab": {}
      },
      "source": [
        ""
      ],
      "execution_count": 0,
      "outputs": []
    }
  ]
}