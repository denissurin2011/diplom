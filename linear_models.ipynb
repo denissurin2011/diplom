{
 "cells": [
  {
   "cell_type": "code",
   "execution_count": 1,
   "metadata": {
    "colab": {},
    "colab_type": "code",
    "id": "OMFEZ9S8zSvS"
   },
   "outputs": [],
   "source": [
    "from sklearn.linear_model import LinearRegression\n",
    "import numpy as np\n",
    "import pandas as pd\n",
    "%matplotlib inline"
   ]
  },
  {
   "cell_type": "code",
   "execution_count": 2,
   "metadata": {},
   "outputs": [],
   "source": [
    "import warnings\n",
    "warnings.filterwarnings('ignore')"
   ]
  },
  {
   "cell_type": "markdown",
   "metadata": {
    "colab_type": "text",
    "id": "pI_01sgHzSvb"
   },
   "source": [
    "# Data"
   ]
  },
  {
   "cell_type": "code",
   "execution_count": 3,
   "metadata": {
    "colab": {},
    "colab_type": "code",
    "id": "DUdMFq8Azpm2"
   },
   "outputs": [],
   "source": [
    "data_path = 'data'"
   ]
  },
  {
   "cell_type": "code",
   "execution_count": 4,
   "metadata": {
    "colab": {},
    "colab_type": "code",
    "id": "aju4BfrrzSvd"
   },
   "outputs": [],
   "source": [
    "df_train = pd.read_csv(data_path + '/train.csv', index_col=\"id\")\n",
    "df_test = pd.read_csv(data_path + '/test.csv', index_col=\"id\")\n",
    "df_test_ans = pd.read_csv(data_path + \"/ans.csv\", index_col=\"id\")\n",
    "df_test_ans['sat_id'] = df_test['sat_id']\n",
    "df_pred_sgp4 = pd.read_csv(data_path + \"/pred_sgp.csv\", index_col=\"id\")\n",
    "\n",
    "n_sat = len(pd.unique(df_train[\"sat_id\"]))"
   ]
  },
  {
   "cell_type": "markdown",
   "metadata": {},
   "source": [
    "# Metrics"
   ]
  },
  {
   "cell_type": "code",
   "execution_count": 5,
   "metadata": {},
   "outputs": [],
   "source": [
    "from metrics import smape_idao, idao_score, smape_new_vector_norm, mahalanobis_distance\n",
    "\n",
    "def print_metrics(model_name, pred):\n",
    "    print(f\"\\n{model_name}\\n\")\n",
    "    print(f\"IDAO score:  {idao_score(pred[target_cols], df_test_ans[target_cols])}\")    \n",
    "    print(f\"SMAPE IDAO:  {smape_idao(pred[target_cols], df_test_ans[target_cols])}\")    \n",
    "    print(f\"SMAPE new:   {smape_new_vector_norm(pred, df_test_ans)}\")"
   ]
  },
  {
   "cell_type": "markdown",
   "metadata": {
    "colab_type": "text",
    "id": "vZAgfZxDzSvj"
   },
   "source": [
    "# LR"
   ]
  },
  {
   "cell_type": "code",
   "execution_count": 6,
   "metadata": {
    "colab": {},
    "colab_type": "code",
    "id": "WL-9AKadzSvk"
   },
   "outputs": [],
   "source": [
    "from sklearn.linear_model import Lasso, LinearRegression, Ridge\n",
    "from sklearn.preprocessing import PolynomialFeatures\n",
    "from tqdm import tqdm"
   ]
  },
  {
   "cell_type": "code",
   "execution_count": 7,
   "metadata": {},
   "outputs": [],
   "source": [
    "MODELS = {'LR': LinearRegression(normalize=True), 'L2': Ridge(normalize=True), 'L1': Lasso()}\n",
    "TRANSFORMERS = {'No transforms': None, 'Poly': PolynomialFeatures(2)}"
   ]
  },
  {
   "cell_type": "code",
   "execution_count": 8,
   "metadata": {
    "colab": {},
    "colab_type": "code",
    "id": "W_AedM_1zSvp"
   },
   "outputs": [],
   "source": [
    "# features columns \n",
    "feature_cols = [\"x_sim\", \"y_sim\", \"z_sim\", \"Vx_sim\", \"Vy_sim\", \"Vz_sim\"]\n",
    "\n",
    "# target variables columns \n",
    "target_cols = [\"x\", \"y\", \"z\", \"Vx\", \"Vy\", \"Vz\"]"
   ]
  },
  {
   "cell_type": "code",
   "execution_count": 9,
   "metadata": {
    "colab": {},
    "colab_type": "code",
    "id": "0E-rGzpHzSvt",
    "outputId": "7c701f97-6bd8-46b9-c768-332134dba3e1"
   },
   "outputs": [],
   "source": [
    "# Linear (Polynomial) Regression models\n",
    "def predict_lr(model, transformer=None):\n",
    "    X_train = df_train[feature_cols].values\n",
    "    y_train = df_train[target_cols].values\n",
    "    X_test = df_test[feature_cols].values\n",
    "    pred = pd.DataFrame(columns=target_cols, index=df_test.index)\n",
    "    pred[\"sat_id\"] = df_test[\"sat_id\"]\n",
    "\n",
    "    if transformer:\n",
    "        X_train = transformer.fit_transform(X_train)\n",
    "        X_test = transformer.fit_transform(X_test)\n",
    "    \n",
    "    for sat_id in range(n_sat): \n",
    "        mask_train = df_train.sat_id == sat_id\n",
    "        mask_test = df_test.sat_id == sat_id\n",
    "        model.fit(X_train[mask_train], y_train[mask_train]) \n",
    "        pred.loc[mask_test, target_cols] = model.predict(X_test[mask_test])\n",
    "    return pred"
   ]
  },
  {
   "cell_type": "code",
   "execution_count": 10,
   "metadata": {},
   "outputs": [
    {
     "name": "stdout",
     "output_type": "stream",
     "text": [
      "\n",
      "LR No transforms\n",
      "\n",
      "IDAO score:  91.81678353872567\n",
      "SMAPE IDAO:  0.08183216461274333\n",
      "SMAPE new:   0.1272771961005083\n",
      "\n",
      "LR Poly\n",
      "\n",
      "IDAO score:  94.43558420612257\n",
      "SMAPE IDAO:  0.05564415793877425\n",
      "SMAPE new:   0.11643354874987599\n",
      "\n",
      "L2 No transforms\n",
      "\n",
      "IDAO score:  77.37663968452705\n",
      "SMAPE IDAO:  0.22623360315472948\n",
      "SMAPE new:   0.35926468707137\n",
      "\n",
      "L2 Poly\n",
      "\n",
      "IDAO score:  81.40162944181164\n",
      "SMAPE IDAO:  0.18598370558188354\n",
      "SMAPE new:   0.2882618873312472\n",
      "\n",
      "L1 No transforms\n",
      "\n",
      "IDAO score:  84.71356577083694\n",
      "SMAPE IDAO:  0.15286434229163065\n",
      "SMAPE new:   0.2321950299775657\n",
      "\n",
      "L1 Poly\n",
      "\n",
      "IDAO score:  89.01646897175385\n",
      "SMAPE IDAO:  0.10983531028246149\n",
      "SMAPE new:   0.1493868550128499\n"
     ]
    }
   ],
   "source": [
    "from itertools import product\n",
    "\n",
    "for model, transformer in product(MODELS, TRANSFORMERS):\n",
    "    pred = predict_lr(MODELS[model], TRANSFORMERS[transformer])\n",
    "    print_metrics(f'{model} {transformer}', pred)"
   ]
  },
  {
   "cell_type": "markdown",
   "metadata": {
    "colab_type": "text",
    "id": "bkWWKuDyzSvx"
   },
   "source": [
    "# LR + clusterization"
   ]
  },
  {
   "cell_type": "code",
   "execution_count": 11,
   "metadata": {},
   "outputs": [],
   "source": [
    "# Get cluter id from epoch\n",
    "df_train['cluster_id'] = pd.to_datetime(df_train.epoch).apply(lambda x: x.time().hour)\n",
    "df_test['cluster_id'] = pd.to_datetime(df_test.epoch).apply(lambda x: x.time().hour)"
   ]
  },
  {
   "cell_type": "code",
   "execution_count": 12,
   "metadata": {},
   "outputs": [
    {
     "data": {
      "text/plain": [
       "((335147, 15), (335147, 2))"
      ]
     },
     "execution_count": 12,
     "metadata": {},
     "output_type": "execute_result"
    }
   ],
   "source": [
    "# NO Duplicates!\n",
    "df_train.shape, df_train[['sat_id', 'epoch']].drop_duplicates().shape"
   ]
  },
  {
   "cell_type": "code",
   "execution_count": 13,
   "metadata": {},
   "outputs": [
    {
     "name": "stderr",
     "output_type": "stream",
     "text": [
      "100%|██████████| 600/600 [00:04<00:00, 134.13it/s]\n",
      "100%|██████████| 600/600 [00:04<00:00, 136.82it/s]\n",
      "100%|██████████| 600/600 [00:04<00:00, 138.56it/s]\n",
      "100%|██████████| 600/600 [00:04<00:00, 141.94it/s]\n",
      "100%|██████████| 600/600 [00:04<00:00, 132.27it/s]\n",
      "100%|██████████| 600/600 [00:04<00:00, 134.67it/s]\n",
      "100%|██████████| 600/600 [00:04<00:00, 139.34it/s]\n",
      "100%|██████████| 600/600 [00:04<00:00, 139.78it/s]\n",
      "100%|██████████| 600/600 [00:04<00:00, 133.24it/s]\n",
      "100%|██████████| 600/600 [00:04<00:00, 128.94it/s]\n",
      "100%|██████████| 600/600 [00:04<00:00, 132.60it/s]\n",
      "100%|██████████| 600/600 [00:04<00:00, 132.51it/s]\n",
      "100%|██████████| 600/600 [00:04<00:00, 126.72it/s]\n",
      "100%|██████████| 600/600 [00:04<00:00, 133.08it/s]\n",
      "100%|██████████| 600/600 [00:04<00:00, 131.44it/s]\n",
      "100%|██████████| 600/600 [00:04<00:00, 128.88it/s]\n",
      "100%|██████████| 600/600 [00:04<00:00, 129.37it/s]\n",
      "100%|██████████| 600/600 [00:04<00:00, 131.31it/s]\n",
      "100%|██████████| 600/600 [00:05<00:00, 110.67it/s]\n",
      "100%|██████████| 600/600 [00:05<00:00, 102.42it/s]\n",
      "100%|██████████| 600/600 [00:05<00:00, 106.16it/s]\n",
      "100%|██████████| 600/600 [00:04<00:00, 123.83it/s]\n",
      "100%|██████████| 600/600 [00:04<00:00, 125.80it/s]\n",
      "100%|██████████| 600/600 [00:04<00:00, 131.52it/s]\n"
     ]
    }
   ],
   "source": [
    "# Invalid pairs (test without train)\n",
    "sizes_train, sizes_test = [], []\n",
    "invalid = []\n",
    "zeros = []\n",
    "for i in range(24):\n",
    "    for j in tqdm(range(600)):\n",
    "        size_train = df_train[(df_train.cluster_id == i) & (df_train.sat_id == j)].shape[0]\n",
    "        size_test = df_test[(df_test.cluster_id == i) & (df_test.sat_id == j)].shape[0]\n",
    "        sizes_train.append(size_train)\n",
    "        sizes_test.append(size_test)\n",
    "        if size_train == 0:\n",
    "            if size_test == 0:\n",
    "                zeros.append((i, j))\n",
    "            else:\n",
    "                invalid.append((i, j))"
   ]
  },
  {
   "cell_type": "code",
   "execution_count": 14,
   "metadata": {},
   "outputs": [
    {
     "name": "stdout",
     "output_type": "stream",
     "text": [
      "count    14400.000000\n",
      "mean        23.274097\n",
      "std         14.389971\n",
      "min          0.000000\n",
      "25%         12.000000\n",
      "50%         21.000000\n",
      "75%         31.000000\n",
      "max         93.000000\n",
      "dtype: float64\n"
     ]
    },
    {
     "data": {
      "text/plain": [
       "count    14400.000000\n",
       "mean        21.004028\n",
       "std         12.993723\n",
       "min          0.000000\n",
       "25%         11.000000\n",
       "50%         19.000000\n",
       "75%         28.000000\n",
       "max         84.000000\n",
       "dtype: float64"
      ]
     },
     "execution_count": 14,
     "metadata": {},
     "output_type": "execute_result"
    }
   ],
   "source": [
    "print(pd.Series(sizes_train).describe())\n",
    "pd.Series(sizes_test).describe()"
   ]
  },
  {
   "cell_type": "code",
   "execution_count": 15,
   "metadata": {},
   "outputs": [
    {
     "data": {
      "text/plain": [
       "(99, 73)"
      ]
     },
     "execution_count": 15,
     "metadata": {},
     "output_type": "execute_result"
    }
   ],
   "source": [
    "len(zeros), len(invalid)"
   ]
  },
  {
   "cell_type": "code",
   "execution_count": 16,
   "metadata": {
    "colab": {},
    "colab_type": "code",
    "id": "dmM2dBy8zSvy",
    "outputId": "c5528237-6b95-4d30-aa87-cc139c1867f7"
   },
   "outputs": [],
   "source": [
    "from collections import defaultdict\n",
    "from copy import deepcopy\n",
    "\n",
    "\n",
    "def predict_lr_cluster(model, threshold=1, transformer=None):\n",
    "    cluster_masks_train = list(map(lambda i: df_train.cluster_id == i, range(24)))\n",
    "    cluster_masks_test = list(map(lambda i: df_test.cluster_id == i, range(24)))\n",
    "\n",
    "    X_train = df_train[feature_cols + ['cluster_id']].values\n",
    "    y_train = df_train[target_cols].values\n",
    "    X_test = df_test[feature_cols + ['cluster_id']].values\n",
    "    pred = pd.DataFrame(columns=target_cols, index=df_test.index)\n",
    "    pred[\"sat_id\"] = df_test[\"sat_id\"]\n",
    "    models_per_cluster = defaultdict(list)\n",
    "\n",
    "    if transformer:\n",
    "        X_train = transformer.fit_transform(X_train)\n",
    "        X_test = transformer.fit_transform(X_test)\n",
    "    \n",
    "    for sat_id in tqdm(range(n_sat), position=0, leave=True):\n",
    "        train_idxs = df_train[\"sat_id\"] == sat_id\n",
    "        test_idxs = df_test[\"sat_id\"] == sat_id\n",
    "        for i in range(24):\n",
    "            mask_train = train_idxs & cluster_masks_train[i]\n",
    "            if mask_train.sum() >= threshold:\n",
    "                mask_test = test_idxs & cluster_masks_test[i]\n",
    "                model.fit(X_train[mask_train], y_train[mask_train])\n",
    "                models_per_cluster[i].append(deepcopy(model))\n",
    "                if mask_test.sum():\n",
    "                    tmp = model.predict(X_test[mask_test])\n",
    "                    pred.loc[mask_test, target_cols] = tmp\n",
    "    \n",
    "    empty = ~pred.notna().all(axis=1)\n",
    "    for i in tqdm(range(24), position=0, leave=True):\n",
    "        mask = empty & cluster_masks_test[i]\n",
    "        if mask.sum():\n",
    "            bootstrap = list(map(lambda m: m.predict(X_test[mask]), models_per_cluster[i]))\n",
    "            pred.loc[mask, target_cols] = np.vstack(bootstrap).mean()\n",
    "    return pred"
   ]
  },
  {
   "cell_type": "code",
   "execution_count": 17,
   "metadata": {
    "collapsed": true
   },
   "outputs": [
    {
     "name": "stderr",
     "output_type": "stream",
     "text": [
      "100%|██████████| 600/600 [28:02<00:00,  2.80s/it]\n",
      "100%|██████████| 24/24 [00:10<00:00,  2.19it/s]\n"
     ]
    },
    {
     "name": "stdout",
     "output_type": "stream",
     "text": [
      "\n",
      "LR, No transforms, 1 threshold\n",
      "\n",
      "IDAO score:  90.68509099399826\n",
      "SMAPE IDAO:  0.09314909006001736\n",
      "SMAPE new:   0.17685442240023336\n"
     ]
    },
    {
     "name": "stderr",
     "output_type": "stream",
     "text": [
      "100%|██████████| 600/600 [28:27<00:00,  2.85s/it]\n",
      "100%|██████████| 24/24 [00:13<00:00,  1.84it/s]\n"
     ]
    },
    {
     "name": "stdout",
     "output_type": "stream",
     "text": [
      "\n",
      "LR, No transforms, 5 threshold\n",
      "\n",
      "IDAO score:  90.47590936540746\n",
      "SMAPE IDAO:  0.09524090634592544\n",
      "SMAPE new:   0.19535220098974349\n"
     ]
    },
    {
     "name": "stderr",
     "output_type": "stream",
     "text": [
      "  4%|▍         | 26/600 [00:38<14:29,  1.51s/it]"
     ]
    },
    {
     "ename": "KeyboardInterrupt",
     "evalue": "",
     "output_type": "error",
     "traceback": [
      "\u001b[1;31m---------------------------------------------------------------------------\u001b[0m",
      "\u001b[1;31mKeyboardInterrupt\u001b[0m                         Traceback (most recent call last)",
      "\u001b[1;32m<ipython-input-17-eb0e53fdb781>\u001b[0m in \u001b[0;36m<module>\u001b[1;34m\u001b[0m\n\u001b[0;32m      1\u001b[0m \u001b[1;32mfor\u001b[0m \u001b[0mmodel\u001b[0m\u001b[1;33m,\u001b[0m \u001b[0mtransformer\u001b[0m\u001b[1;33m,\u001b[0m \u001b[0mi\u001b[0m \u001b[1;32min\u001b[0m \u001b[0mproduct\u001b[0m\u001b[1;33m(\u001b[0m\u001b[0mMODELS\u001b[0m\u001b[1;33m,\u001b[0m \u001b[0mTRANSFORMERS\u001b[0m\u001b[1;33m,\u001b[0m \u001b[0mrange\u001b[0m\u001b[1;33m(\u001b[0m\u001b[1;36m1\u001b[0m\u001b[1;33m,\u001b[0m \u001b[1;36m21\u001b[0m\u001b[1;33m,\u001b[0m \u001b[1;36m4\u001b[0m\u001b[1;33m)\u001b[0m\u001b[1;33m)\u001b[0m\u001b[1;33m:\u001b[0m\u001b[1;33m\u001b[0m\u001b[1;33m\u001b[0m\u001b[0m\n\u001b[1;32m----> 2\u001b[1;33m     \u001b[0mpred\u001b[0m \u001b[1;33m=\u001b[0m \u001b[0mpredict_lr_cluster\u001b[0m\u001b[1;33m(\u001b[0m\u001b[0mMODELS\u001b[0m\u001b[1;33m[\u001b[0m\u001b[0mmodel\u001b[0m\u001b[1;33m]\u001b[0m\u001b[1;33m,\u001b[0m \u001b[0mi\u001b[0m\u001b[1;33m,\u001b[0m \u001b[0mTRANSFORMERS\u001b[0m\u001b[1;33m[\u001b[0m\u001b[0mtransformer\u001b[0m\u001b[1;33m]\u001b[0m\u001b[1;33m)\u001b[0m\u001b[1;33m\u001b[0m\u001b[1;33m\u001b[0m\u001b[0m\n\u001b[0m\u001b[0;32m      3\u001b[0m     \u001b[0mprint_metrics\u001b[0m\u001b[1;33m(\u001b[0m\u001b[1;34mf'{model}, {transformer}, {i} threshold'\u001b[0m\u001b[1;33m,\u001b[0m \u001b[0mpred\u001b[0m\u001b[1;33m)\u001b[0m\u001b[1;33m\u001b[0m\u001b[1;33m\u001b[0m\u001b[0m\n",
      "\u001b[1;32m<ipython-input-16-558451aa4af4>\u001b[0m in \u001b[0;36mpredict_lr_cluster\u001b[1;34m(model, threshold, transformer)\u001b[0m\n\u001b[0;32m     29\u001b[0m                 \u001b[1;32mif\u001b[0m \u001b[0mmask_test\u001b[0m\u001b[1;33m.\u001b[0m\u001b[0msum\u001b[0m\u001b[1;33m(\u001b[0m\u001b[1;33m)\u001b[0m\u001b[1;33m:\u001b[0m\u001b[1;33m\u001b[0m\u001b[1;33m\u001b[0m\u001b[0m\n\u001b[0;32m     30\u001b[0m                     \u001b[0mtmp\u001b[0m \u001b[1;33m=\u001b[0m \u001b[0mmodel\u001b[0m\u001b[1;33m.\u001b[0m\u001b[0mpredict\u001b[0m\u001b[1;33m(\u001b[0m\u001b[0mX_test\u001b[0m\u001b[1;33m[\u001b[0m\u001b[0mmask_test\u001b[0m\u001b[1;33m]\u001b[0m\u001b[1;33m)\u001b[0m\u001b[1;33m\u001b[0m\u001b[1;33m\u001b[0m\u001b[0m\n\u001b[1;32m---> 31\u001b[1;33m                     \u001b[0mpred\u001b[0m\u001b[1;33m.\u001b[0m\u001b[0mloc\u001b[0m\u001b[1;33m[\u001b[0m\u001b[0mmask_test\u001b[0m\u001b[1;33m,\u001b[0m \u001b[0mtarget_cols\u001b[0m\u001b[1;33m]\u001b[0m \u001b[1;33m=\u001b[0m \u001b[0mtmp\u001b[0m\u001b[1;33m\u001b[0m\u001b[1;33m\u001b[0m\u001b[0m\n\u001b[0m\u001b[0;32m     32\u001b[0m \u001b[1;33m\u001b[0m\u001b[0m\n\u001b[0;32m     33\u001b[0m     \u001b[0mempty\u001b[0m \u001b[1;33m=\u001b[0m \u001b[1;33m~\u001b[0m\u001b[0mpred\u001b[0m\u001b[1;33m.\u001b[0m\u001b[0mnotna\u001b[0m\u001b[1;33m(\u001b[0m\u001b[1;33m)\u001b[0m\u001b[1;33m.\u001b[0m\u001b[0mall\u001b[0m\u001b[1;33m(\u001b[0m\u001b[0maxis\u001b[0m\u001b[1;33m=\u001b[0m\u001b[1;36m1\u001b[0m\u001b[1;33m)\u001b[0m\u001b[1;33m\u001b[0m\u001b[1;33m\u001b[0m\u001b[0m\n",
      "\u001b[1;32m~\\AppData\\Local\\Continuum\\anaconda3\\lib\\site-packages\\pandas\\core\\indexing.py\u001b[0m in \u001b[0;36m__setitem__\u001b[1;34m(self, key, value)\u001b[0m\n\u001b[0;32m    203\u001b[0m             \u001b[0mkey\u001b[0m \u001b[1;33m=\u001b[0m \u001b[0mcom\u001b[0m\u001b[1;33m.\u001b[0m\u001b[0mapply_if_callable\u001b[0m\u001b[1;33m(\u001b[0m\u001b[0mkey\u001b[0m\u001b[1;33m,\u001b[0m \u001b[0mself\u001b[0m\u001b[1;33m.\u001b[0m\u001b[0mobj\u001b[0m\u001b[1;33m)\u001b[0m\u001b[1;33m\u001b[0m\u001b[1;33m\u001b[0m\u001b[0m\n\u001b[0;32m    204\u001b[0m         \u001b[0mindexer\u001b[0m \u001b[1;33m=\u001b[0m \u001b[0mself\u001b[0m\u001b[1;33m.\u001b[0m\u001b[0m_get_setitem_indexer\u001b[0m\u001b[1;33m(\u001b[0m\u001b[0mkey\u001b[0m\u001b[1;33m)\u001b[0m\u001b[1;33m\u001b[0m\u001b[1;33m\u001b[0m\u001b[0m\n\u001b[1;32m--> 205\u001b[1;33m         \u001b[0mself\u001b[0m\u001b[1;33m.\u001b[0m\u001b[0m_setitem_with_indexer\u001b[0m\u001b[1;33m(\u001b[0m\u001b[0mindexer\u001b[0m\u001b[1;33m,\u001b[0m \u001b[0mvalue\u001b[0m\u001b[1;33m)\u001b[0m\u001b[1;33m\u001b[0m\u001b[1;33m\u001b[0m\u001b[0m\n\u001b[0m\u001b[0;32m    206\u001b[0m \u001b[1;33m\u001b[0m\u001b[0m\n\u001b[0;32m    207\u001b[0m     \u001b[1;32mdef\u001b[0m \u001b[0m_validate_key\u001b[0m\u001b[1;33m(\u001b[0m\u001b[0mself\u001b[0m\u001b[1;33m,\u001b[0m \u001b[0mkey\u001b[0m\u001b[1;33m,\u001b[0m \u001b[0maxis\u001b[0m\u001b[1;33m:\u001b[0m \u001b[0mint\u001b[0m\u001b[1;33m)\u001b[0m\u001b[1;33m:\u001b[0m\u001b[1;33m\u001b[0m\u001b[1;33m\u001b[0m\u001b[0m\n",
      "\u001b[1;32m~\\AppData\\Local\\Continuum\\anaconda3\\lib\\site-packages\\pandas\\core\\indexing.py\u001b[0m in \u001b[0;36m_setitem_with_indexer\u001b[1;34m(self, indexer, value)\u001b[0m\n\u001b[0;32m    532\u001b[0m \u001b[1;33m\u001b[0m\u001b[0m\n\u001b[0;32m    533\u001b[0m                         \u001b[1;31m# setting with a list, recoerces\u001b[0m\u001b[1;33m\u001b[0m\u001b[1;33m\u001b[0m\u001b[1;33m\u001b[0m\u001b[0m\n\u001b[1;32m--> 534\u001b[1;33m                         \u001b[0msetter\u001b[0m\u001b[1;33m(\u001b[0m\u001b[0mitem\u001b[0m\u001b[1;33m,\u001b[0m \u001b[0mvalue\u001b[0m\u001b[1;33m[\u001b[0m\u001b[1;33m:\u001b[0m\u001b[1;33m,\u001b[0m \u001b[0mi\u001b[0m\u001b[1;33m]\u001b[0m\u001b[1;33m.\u001b[0m\u001b[0mtolist\u001b[0m\u001b[1;33m(\u001b[0m\u001b[1;33m)\u001b[0m\u001b[1;33m)\u001b[0m\u001b[1;33m\u001b[0m\u001b[1;33m\u001b[0m\u001b[0m\n\u001b[0m\u001b[0;32m    535\u001b[0m \u001b[1;33m\u001b[0m\u001b[0m\n\u001b[0;32m    536\u001b[0m                 \u001b[1;31m# we have an equal len list/ndarray\u001b[0m\u001b[1;33m\u001b[0m\u001b[1;33m\u001b[0m\u001b[1;33m\u001b[0m\u001b[0m\n",
      "\u001b[1;32m~\\AppData\\Local\\Continuum\\anaconda3\\lib\\site-packages\\pandas\\core\\indexing.py\u001b[0m in \u001b[0;36msetter\u001b[1;34m(item, v)\u001b[0m\n\u001b[0;32m    492\u001b[0m \u001b[1;33m\u001b[0m\u001b[0m\n\u001b[0;32m    493\u001b[0m                 \u001b[1;31m# reset the sliced object if unique\u001b[0m\u001b[1;33m\u001b[0m\u001b[1;33m\u001b[0m\u001b[1;33m\u001b[0m\u001b[0m\n\u001b[1;32m--> 494\u001b[1;33m                 \u001b[0mself\u001b[0m\u001b[1;33m.\u001b[0m\u001b[0mobj\u001b[0m\u001b[1;33m[\u001b[0m\u001b[0mitem\u001b[0m\u001b[1;33m]\u001b[0m \u001b[1;33m=\u001b[0m \u001b[0ms\u001b[0m\u001b[1;33m\u001b[0m\u001b[1;33m\u001b[0m\u001b[0m\n\u001b[0m\u001b[0;32m    495\u001b[0m \u001b[1;33m\u001b[0m\u001b[0m\n\u001b[0;32m    496\u001b[0m             \u001b[1;31m# we need an iterable, with a ndim of at least 1\u001b[0m\u001b[1;33m\u001b[0m\u001b[1;33m\u001b[0m\u001b[1;33m\u001b[0m\u001b[0m\n",
      "\u001b[1;32m~\\AppData\\Local\\Continuum\\anaconda3\\lib\\site-packages\\pandas\\core\\frame.py\u001b[0m in \u001b[0;36m__setitem__\u001b[1;34m(self, key, value)\u001b[0m\n\u001b[0;32m   3470\u001b[0m         \u001b[1;32melse\u001b[0m\u001b[1;33m:\u001b[0m\u001b[1;33m\u001b[0m\u001b[1;33m\u001b[0m\u001b[0m\n\u001b[0;32m   3471\u001b[0m             \u001b[1;31m# set column\u001b[0m\u001b[1;33m\u001b[0m\u001b[1;33m\u001b[0m\u001b[1;33m\u001b[0m\u001b[0m\n\u001b[1;32m-> 3472\u001b[1;33m             \u001b[0mself\u001b[0m\u001b[1;33m.\u001b[0m\u001b[0m_set_item\u001b[0m\u001b[1;33m(\u001b[0m\u001b[0mkey\u001b[0m\u001b[1;33m,\u001b[0m \u001b[0mvalue\u001b[0m\u001b[1;33m)\u001b[0m\u001b[1;33m\u001b[0m\u001b[1;33m\u001b[0m\u001b[0m\n\u001b[0m\u001b[0;32m   3473\u001b[0m \u001b[1;33m\u001b[0m\u001b[0m\n\u001b[0;32m   3474\u001b[0m     \u001b[1;32mdef\u001b[0m \u001b[0m_setitem_slice\u001b[0m\u001b[1;33m(\u001b[0m\u001b[0mself\u001b[0m\u001b[1;33m,\u001b[0m \u001b[0mkey\u001b[0m\u001b[1;33m,\u001b[0m \u001b[0mvalue\u001b[0m\u001b[1;33m)\u001b[0m\u001b[1;33m:\u001b[0m\u001b[1;33m\u001b[0m\u001b[1;33m\u001b[0m\u001b[0m\n",
      "\u001b[1;32m~\\AppData\\Local\\Continuum\\anaconda3\\lib\\site-packages\\pandas\\core\\frame.py\u001b[0m in \u001b[0;36m_set_item\u001b[1;34m(self, key, value)\u001b[0m\n\u001b[0;32m   3548\u001b[0m         \u001b[0mself\u001b[0m\u001b[1;33m.\u001b[0m\u001b[0m_ensure_valid_index\u001b[0m\u001b[1;33m(\u001b[0m\u001b[0mvalue\u001b[0m\u001b[1;33m)\u001b[0m\u001b[1;33m\u001b[0m\u001b[1;33m\u001b[0m\u001b[0m\n\u001b[0;32m   3549\u001b[0m         \u001b[0mvalue\u001b[0m \u001b[1;33m=\u001b[0m \u001b[0mself\u001b[0m\u001b[1;33m.\u001b[0m\u001b[0m_sanitize_column\u001b[0m\u001b[1;33m(\u001b[0m\u001b[0mkey\u001b[0m\u001b[1;33m,\u001b[0m \u001b[0mvalue\u001b[0m\u001b[1;33m)\u001b[0m\u001b[1;33m\u001b[0m\u001b[1;33m\u001b[0m\u001b[0m\n\u001b[1;32m-> 3550\u001b[1;33m         \u001b[0mNDFrame\u001b[0m\u001b[1;33m.\u001b[0m\u001b[0m_set_item\u001b[0m\u001b[1;33m(\u001b[0m\u001b[0mself\u001b[0m\u001b[1;33m,\u001b[0m \u001b[0mkey\u001b[0m\u001b[1;33m,\u001b[0m \u001b[0mvalue\u001b[0m\u001b[1;33m)\u001b[0m\u001b[1;33m\u001b[0m\u001b[1;33m\u001b[0m\u001b[0m\n\u001b[0m\u001b[0;32m   3551\u001b[0m \u001b[1;33m\u001b[0m\u001b[0m\n\u001b[0;32m   3552\u001b[0m         \u001b[1;31m# check if we are modifying a copy\u001b[0m\u001b[1;33m\u001b[0m\u001b[1;33m\u001b[0m\u001b[1;33m\u001b[0m\u001b[0m\n",
      "\u001b[1;32m~\\AppData\\Local\\Continuum\\anaconda3\\lib\\site-packages\\pandas\\core\\generic.py\u001b[0m in \u001b[0;36m_set_item\u001b[1;34m(self, key, value)\u001b[0m\n\u001b[0;32m   3379\u001b[0m \u001b[1;33m\u001b[0m\u001b[0m\n\u001b[0;32m   3380\u001b[0m     \u001b[1;32mdef\u001b[0m \u001b[0m_set_item\u001b[0m\u001b[1;33m(\u001b[0m\u001b[0mself\u001b[0m\u001b[1;33m,\u001b[0m \u001b[0mkey\u001b[0m\u001b[1;33m,\u001b[0m \u001b[0mvalue\u001b[0m\u001b[1;33m)\u001b[0m\u001b[1;33m:\u001b[0m\u001b[1;33m\u001b[0m\u001b[1;33m\u001b[0m\u001b[0m\n\u001b[1;32m-> 3381\u001b[1;33m         \u001b[0mself\u001b[0m\u001b[1;33m.\u001b[0m\u001b[0m_data\u001b[0m\u001b[1;33m.\u001b[0m\u001b[0mset\u001b[0m\u001b[1;33m(\u001b[0m\u001b[0mkey\u001b[0m\u001b[1;33m,\u001b[0m \u001b[0mvalue\u001b[0m\u001b[1;33m)\u001b[0m\u001b[1;33m\u001b[0m\u001b[1;33m\u001b[0m\u001b[0m\n\u001b[0m\u001b[0;32m   3382\u001b[0m         \u001b[0mself\u001b[0m\u001b[1;33m.\u001b[0m\u001b[0m_clear_item_cache\u001b[0m\u001b[1;33m(\u001b[0m\u001b[1;33m)\u001b[0m\u001b[1;33m\u001b[0m\u001b[1;33m\u001b[0m\u001b[0m\n\u001b[0;32m   3383\u001b[0m \u001b[1;33m\u001b[0m\u001b[0m\n",
      "\u001b[1;32m~\\AppData\\Local\\Continuum\\anaconda3\\lib\\site-packages\\pandas\\core\\internals\\managers.py\u001b[0m in \u001b[0;36mset\u001b[1;34m(self, item, value)\u001b[0m\n\u001b[0;32m   1076\u001b[0m             \u001b[0mloc\u001b[0m \u001b[1;33m=\u001b[0m \u001b[1;33m[\u001b[0m\u001b[0mloc\u001b[0m\u001b[1;33m]\u001b[0m\u001b[1;33m\u001b[0m\u001b[1;33m\u001b[0m\u001b[0m\n\u001b[0;32m   1077\u001b[0m \u001b[1;33m\u001b[0m\u001b[0m\n\u001b[1;32m-> 1078\u001b[1;33m         \u001b[0mblknos\u001b[0m \u001b[1;33m=\u001b[0m \u001b[0mself\u001b[0m\u001b[1;33m.\u001b[0m\u001b[0m_blknos\u001b[0m\u001b[1;33m[\u001b[0m\u001b[0mloc\u001b[0m\u001b[1;33m]\u001b[0m\u001b[1;33m\u001b[0m\u001b[1;33m\u001b[0m\u001b[0m\n\u001b[0m\u001b[0;32m   1079\u001b[0m         \u001b[0mblklocs\u001b[0m \u001b[1;33m=\u001b[0m \u001b[0mself\u001b[0m\u001b[1;33m.\u001b[0m\u001b[0m_blklocs\u001b[0m\u001b[1;33m[\u001b[0m\u001b[0mloc\u001b[0m\u001b[1;33m]\u001b[0m\u001b[1;33m.\u001b[0m\u001b[0mcopy\u001b[0m\u001b[1;33m(\u001b[0m\u001b[1;33m)\u001b[0m\u001b[1;33m\u001b[0m\u001b[1;33m\u001b[0m\u001b[0m\n\u001b[0;32m   1080\u001b[0m \u001b[1;33m\u001b[0m\u001b[0m\n",
      "\u001b[1;31mKeyboardInterrupt\u001b[0m: "
     ]
    }
   ],
   "source": [
    "for model, transformer, i in product(MODELS, TRANSFORMERS, range(1, 21, 4)):\n",
    "    pred = predict_lr_cluster(MODELS[model], i, TRANSFORMERS[transformer])\n",
    "    print_metrics(f'{model}, {transformer}, {i} threshold', pred)"
   ]
  },
  {
   "cell_type": "code",
   "execution_count": 18,
   "metadata": {},
   "outputs": [
    {
     "name": "stderr",
     "output_type": "stream",
     "text": [
      "100%|██████████| 600/600 [29:30<00:00,  2.95s/it]\n",
      "100%|██████████| 24/24 [00:13<00:00,  1.84it/s]\n"
     ]
    },
    {
     "name": "stdout",
     "output_type": "stream",
     "text": [
      "\n",
      "LR, No transforms, 1 threshold\n",
      "\n",
      "IDAO score:  90.68509099399826\n",
      "SMAPE IDAO:  0.09314909006001736\n",
      "SMAPE new:   0.17685442240023336\n"
     ]
    },
    {
     "name": "stderr",
     "output_type": "stream",
     "text": [
      "100%|██████████| 600/600 [30:18<00:00,  3.03s/it]\n",
      "100%|██████████| 24/24 [00:11<00:00,  2.10it/s]\n"
     ]
    },
    {
     "name": "stdout",
     "output_type": "stream",
     "text": [
      "\n",
      "LR, Poly, 1 threshold\n",
      "\n",
      "IDAO score:  89.499581040331\n",
      "SMAPE IDAO:  0.10500418959669015\n",
      "SMAPE new:   0.21938073519438936\n"
     ]
    },
    {
     "name": "stderr",
     "output_type": "stream",
     "text": [
      "100%|██████████| 600/600 [28:33<00:00,  2.86s/it]\n",
      "100%|██████████| 24/24 [00:11<00:00,  2.15it/s]\n"
     ]
    },
    {
     "name": "stdout",
     "output_type": "stream",
     "text": [
      "\n",
      "L2, No transforms, 1 threshold\n",
      "\n",
      "IDAO score:  75.71831224469724\n",
      "SMAPE IDAO:  0.24281687755302744\n",
      "SMAPE new:   0.40058709310225643\n"
     ]
    },
    {
     "name": "stderr",
     "output_type": "stream",
     "text": [
      "100%|██████████| 600/600 [29:51<00:00,  2.99s/it]\n",
      "100%|██████████| 24/24 [00:11<00:00,  2.08it/s]\n"
     ]
    },
    {
     "name": "stdout",
     "output_type": "stream",
     "text": [
      "\n",
      "L2, Poly, 1 threshold\n",
      "\n",
      "IDAO score:  81.20915697154362\n",
      "SMAPE IDAO:  0.18790843028456375\n",
      "SMAPE new:   0.31777516423948915\n"
     ]
    },
    {
     "name": "stderr",
     "output_type": "stream",
     "text": [
      "100%|██████████| 600/600 [29:43<00:00,  2.97s/it]\n",
      "100%|██████████| 24/24 [00:11<00:00,  2.11it/s]\n"
     ]
    },
    {
     "name": "stdout",
     "output_type": "stream",
     "text": [
      "\n",
      "L1, No transforms, 1 threshold\n",
      "\n",
      "IDAO score:  84.07220774543082\n",
      "SMAPE IDAO:  0.15927792254569184\n",
      "SMAPE new:   0.2669391728561082\n"
     ]
    },
    {
     "name": "stderr",
     "output_type": "stream",
     "text": [
      "100%|██████████| 600/600 [32:13<00:00,  3.22s/it]\n",
      "100%|██████████| 24/24 [00:11<00:00,  2.06it/s]\n"
     ]
    },
    {
     "name": "stdout",
     "output_type": "stream",
     "text": [
      "\n",
      "L1, Poly, 1 threshold\n",
      "\n",
      "IDAO score:  88.07316184381499\n",
      "SMAPE IDAO:  0.1192683815618502\n",
      "SMAPE new:   0.19838296428574898\n"
     ]
    }
   ],
   "source": [
    "threshold=1\n",
    "for model, transformer in product(MODELS, TRANSFORMERS):\n",
    "    pred = predict_lr_cluster(MODELS[model], threshold, TRANSFORMERS[transformer])\n",
    "    print_metrics(f'{model}, {transformer}, {threshold} threshold', pred)"
   ]
  },
  {
   "cell_type": "markdown",
   "metadata": {},
   "source": [
    "# clusterization only"
   ]
  },
  {
   "cell_type": "code",
   "execution_count": 19,
   "metadata": {},
   "outputs": [],
   "source": [
    "df_train['cluster_id'] = pd.to_datetime(df_train.epoch).apply(lambda x: x.time().hour)\n",
    "df_test['cluster_id'] = pd.to_datetime(df_test.epoch).apply(lambda x: x.time().hour)"
   ]
  },
  {
   "cell_type": "code",
   "execution_count": 20,
   "metadata": {},
   "outputs": [],
   "source": [
    "def predict_cluster(model, transformer=None):\n",
    "    pred = pd.DataFrame(columns=target_cols, index=df_test.index)\n",
    "    pred[\"sat_id\"] = df_test[\"sat_id\"]\n",
    "    \n",
    "    cluster_masks_train = list(map(lambda i: df_train.cluster_id == i, range(24)))\n",
    "    cluster_masks_test = list(map(lambda i: df_test.cluster_id == i, range(24)))\n",
    "    \n",
    "    X_train = df_train[feature_cols + ['cluster_id']].values\n",
    "    y_train = df_train[target_cols].values\n",
    "    X_test = df_test[feature_cols + ['cluster_id']].values\n",
    "    \n",
    "    if transformer:\n",
    "        X_train = transformer.fit_transform(X_train)\n",
    "        X_test = transformer.fit_transform(X_test)\n",
    "    \n",
    "    for i in range(24):\n",
    "        mask_train = cluster_masks_train[i]\n",
    "        mask_test = cluster_masks_test[i]\n",
    "        model = model.fit(X_train[mask_train], y_train[mask_train])\n",
    "        tmp = model.predict(X_test[mask_test])\n",
    "        pred.loc[mask_test, target_cols] = tmp\n",
    "    return pred"
   ]
  },
  {
   "cell_type": "code",
   "execution_count": 21,
   "metadata": {},
   "outputs": [
    {
     "name": "stdout",
     "output_type": "stream",
     "text": [
      "\n",
      "LR No transforms\n",
      "\n",
      "IDAO score:  85.08089899912399\n",
      "SMAPE IDAO:  0.1491910100087601\n",
      "SMAPE new:   0.2289816053611771\n",
      "\n",
      "LR Poly\n",
      "\n",
      "IDAO score:  81.56397424523415\n",
      "SMAPE IDAO:  0.18436025754765853\n",
      "SMAPE new:   0.2750424383622044\n",
      "\n",
      "L2 No transforms\n",
      "\n",
      "IDAO score:  60.18300719923963\n",
      "SMAPE IDAO:  0.39816992800760365\n",
      "SMAPE new:   0.7624804630062105\n",
      "\n",
      "L2 Poly\n",
      "\n",
      "IDAO score:  70.62286040892516\n",
      "SMAPE IDAO:  0.2937713959107484\n",
      "SMAPE new:   0.5371839256026474\n"
     ]
    }
   ],
   "source": [
    "for model, transformer in product(list(MODELS.keys())[:-1], TRANSFORMERS):\n",
    "    pred = predict_cluster(MODELS[model], TRANSFORMERS[transformer])\n",
    "    print_metrics(f'{model} {transformer}', pred)"
   ]
  }
 ],
 "metadata": {
  "accelerator": "GPU",
  "colab": {
   "name": "rnn.ipynb",
   "provenance": [],
   "toc_visible": true
  },
  "kernelspec": {
   "display_name": "Python 3",
   "language": "python",
   "name": "python3"
  },
  "language_info": {
   "codemirror_mode": {
    "name": "ipython",
    "version": 3
   },
   "file_extension": ".py",
   "mimetype": "text/x-python",
   "name": "python",
   "nbconvert_exporter": "python",
   "pygments_lexer": "ipython3",
   "version": "3.7.6"
  }
 },
 "nbformat": 4,
 "nbformat_minor": 4
}
